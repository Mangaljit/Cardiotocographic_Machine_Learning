{
 "cells": [
  {
   "cell_type": "markdown",
   "metadata": {},
   "source": [
    "# Data Set Information"
   ]
  },
  {
   "cell_type": "markdown",
   "metadata": {},
   "source": [
    "In this project, we use the Cardiotocography (CTG) data set available on the\n",
    "University of California Irvine Machine Learning Repository website at https://archive.ics.uci.edu/ml\n",
    "/datasets/cardiotocography."
   ]
  },
  {
   "cell_type": "markdown",
   "metadata": {},
   "source": [
    "2126 fetal cardiotocograms (CTGs) were automatically processed and the respective diagnostic features were measured. The CTGs were also classified by three expert obstetricians and a consensus classification label, labeled as NSP (Normal (1),\n",
    "Suspect (2), or Pathologic (3)). "
   ]
  },
  {
   "cell_type": "markdown",
   "metadata": {},
   "source": [
    "Here is a list of 21 features, and 1 response labeled as NSP.\n",
    "\n",
    "LB - FHR baseline (beats per minute)\n",
    "\n",
    "AC - No. of accelerations per second\n",
    "\n",
    "FM - No. of fetal movements per second\n",
    "\n",
    "UC - No. of uterine contractions per second\n",
    "\n",
    "DL - No. of light decelerations per second\n",
    "\n",
    "DS - No. of severe decelerations per second\n",
    "\n",
    "DP - No. of prolongued decelerations per second\n",
    "\n",
    "ASTV - percentage of time with abnormal short term variability\n",
    "\n",
    "MSTV - mean value of short term variability\n",
    "\n",
    "ALTV - percentage of time with abnormal long term variability\n",
    "\n",
    "MLTV - mean value of long term variability\n",
    "\n",
    "Width - width of FHR histogram\n",
    "\n",
    "Min - minimum of FHR histogram\n",
    "\n",
    "Max - Maximum of FHR histogram\n",
    "\n",
    "Nmax - No. of histogram peaks\n",
    "\n",
    "Nzeros - No. of histogram zeros\n",
    "\n",
    "Mode - histogram mode\n",
    "\n",
    "Mean - histogram mean\n",
    "\n",
    "Median - histogram median\n",
    "\n",
    "Variance - histogram variance\n",
    "\n",
    "Tendency - histogram tendency\n",
    "\n",
    "CLASS - FHR pattern class code (1 to 10)\n",
    "\n",
    "NSP - fetal state class code (1 = normal; 2 = suspect; 3 = pathologic)"
   ]
  },
  {
   "cell_type": "markdown",
   "metadata": {},
   "source": [
    "# Objective"
   ]
  },
  {
   "cell_type": "markdown",
   "metadata": {},
   "source": [
    "The aim is to use the given features to write different machine learning algorithms and compare their accuracies to predict the NSP state of 1, 2 or 3."
   ]
  },
  {
   "cell_type": "markdown",
   "metadata": {},
   "source": [
    "Import different Python packages."
   ]
  },
  {
   "cell_type": "code",
   "execution_count": 3,
   "metadata": {},
   "outputs": [],
   "source": [
    "import os\n",
    "import time\n",
    "import numpy as np\n",
    "import pandas as pd\n",
    "import seaborn as sns\n",
    "import matplotlib.pyplot as plt\n",
    "from sklearn.metrics import accuracy_score"
   ]
  },
  {
   "cell_type": "code",
   "execution_count": 4,
   "metadata": {},
   "outputs": [],
   "source": [
    "t0 = time.time()"
   ]
  },
  {
   "cell_type": "markdown",
   "metadata": {},
   "source": [
    "Import the data set."
   ]
  },
  {
   "cell_type": "code",
   "execution_count": 5,
   "metadata": {},
   "outputs": [
    {
     "data": {
      "text/html": [
       "<div>\n",
       "<style scoped>\n",
       "    .dataframe tbody tr th:only-of-type {\n",
       "        vertical-align: middle;\n",
       "    }\n",
       "\n",
       "    .dataframe tbody tr th {\n",
       "        vertical-align: top;\n",
       "    }\n",
       "\n",
       "    .dataframe thead th {\n",
       "        text-align: right;\n",
       "    }\n",
       "</style>\n",
       "<table border=\"1\" class=\"dataframe\">\n",
       "  <thead>\n",
       "    <tr style=\"text-align: right;\">\n",
       "      <th></th>\n",
       "      <th>LB</th>\n",
       "      <th>AC</th>\n",
       "      <th>FM</th>\n",
       "      <th>UC</th>\n",
       "      <th>DL</th>\n",
       "      <th>DS</th>\n",
       "      <th>DP</th>\n",
       "      <th>ASTV</th>\n",
       "      <th>MSTV</th>\n",
       "      <th>ALTV</th>\n",
       "      <th>...</th>\n",
       "      <th>Min</th>\n",
       "      <th>Max</th>\n",
       "      <th>Nmax</th>\n",
       "      <th>Nzeros</th>\n",
       "      <th>Mode</th>\n",
       "      <th>Mean</th>\n",
       "      <th>Median</th>\n",
       "      <th>Variance</th>\n",
       "      <th>Tendency</th>\n",
       "      <th>NSP</th>\n",
       "    </tr>\n",
       "  </thead>\n",
       "  <tbody>\n",
       "    <tr>\n",
       "      <th>0</th>\n",
       "      <td>120</td>\n",
       "      <td>0.000000</td>\n",
       "      <td>0.000000</td>\n",
       "      <td>0.000000</td>\n",
       "      <td>0.000000</td>\n",
       "      <td>0.0</td>\n",
       "      <td>0.0</td>\n",
       "      <td>73</td>\n",
       "      <td>0.5</td>\n",
       "      <td>43</td>\n",
       "      <td>...</td>\n",
       "      <td>62</td>\n",
       "      <td>126</td>\n",
       "      <td>2</td>\n",
       "      <td>0</td>\n",
       "      <td>120</td>\n",
       "      <td>137</td>\n",
       "      <td>121</td>\n",
       "      <td>73</td>\n",
       "      <td>1</td>\n",
       "      <td>2</td>\n",
       "    </tr>\n",
       "    <tr>\n",
       "      <th>1</th>\n",
       "      <td>132</td>\n",
       "      <td>0.006380</td>\n",
       "      <td>0.000000</td>\n",
       "      <td>0.006380</td>\n",
       "      <td>0.003190</td>\n",
       "      <td>0.0</td>\n",
       "      <td>0.0</td>\n",
       "      <td>17</td>\n",
       "      <td>2.1</td>\n",
       "      <td>0</td>\n",
       "      <td>...</td>\n",
       "      <td>68</td>\n",
       "      <td>198</td>\n",
       "      <td>6</td>\n",
       "      <td>1</td>\n",
       "      <td>141</td>\n",
       "      <td>136</td>\n",
       "      <td>140</td>\n",
       "      <td>12</td>\n",
       "      <td>0</td>\n",
       "      <td>1</td>\n",
       "    </tr>\n",
       "    <tr>\n",
       "      <th>2</th>\n",
       "      <td>133</td>\n",
       "      <td>0.003322</td>\n",
       "      <td>0.000000</td>\n",
       "      <td>0.008306</td>\n",
       "      <td>0.003322</td>\n",
       "      <td>0.0</td>\n",
       "      <td>0.0</td>\n",
       "      <td>16</td>\n",
       "      <td>2.1</td>\n",
       "      <td>0</td>\n",
       "      <td>...</td>\n",
       "      <td>68</td>\n",
       "      <td>198</td>\n",
       "      <td>5</td>\n",
       "      <td>1</td>\n",
       "      <td>141</td>\n",
       "      <td>135</td>\n",
       "      <td>138</td>\n",
       "      <td>13</td>\n",
       "      <td>0</td>\n",
       "      <td>1</td>\n",
       "    </tr>\n",
       "    <tr>\n",
       "      <th>3</th>\n",
       "      <td>134</td>\n",
       "      <td>0.002561</td>\n",
       "      <td>0.000000</td>\n",
       "      <td>0.007682</td>\n",
       "      <td>0.002561</td>\n",
       "      <td>0.0</td>\n",
       "      <td>0.0</td>\n",
       "      <td>16</td>\n",
       "      <td>2.4</td>\n",
       "      <td>0</td>\n",
       "      <td>...</td>\n",
       "      <td>53</td>\n",
       "      <td>170</td>\n",
       "      <td>11</td>\n",
       "      <td>0</td>\n",
       "      <td>137</td>\n",
       "      <td>134</td>\n",
       "      <td>137</td>\n",
       "      <td>13</td>\n",
       "      <td>1</td>\n",
       "      <td>1</td>\n",
       "    </tr>\n",
       "    <tr>\n",
       "      <th>4</th>\n",
       "      <td>132</td>\n",
       "      <td>0.006515</td>\n",
       "      <td>0.000000</td>\n",
       "      <td>0.008143</td>\n",
       "      <td>0.000000</td>\n",
       "      <td>0.0</td>\n",
       "      <td>0.0</td>\n",
       "      <td>16</td>\n",
       "      <td>2.4</td>\n",
       "      <td>0</td>\n",
       "      <td>...</td>\n",
       "      <td>53</td>\n",
       "      <td>170</td>\n",
       "      <td>9</td>\n",
       "      <td>0</td>\n",
       "      <td>137</td>\n",
       "      <td>136</td>\n",
       "      <td>138</td>\n",
       "      <td>11</td>\n",
       "      <td>1</td>\n",
       "      <td>1</td>\n",
       "    </tr>\n",
       "    <tr>\n",
       "      <th>...</th>\n",
       "      <td>...</td>\n",
       "      <td>...</td>\n",
       "      <td>...</td>\n",
       "      <td>...</td>\n",
       "      <td>...</td>\n",
       "      <td>...</td>\n",
       "      <td>...</td>\n",
       "      <td>...</td>\n",
       "      <td>...</td>\n",
       "      <td>...</td>\n",
       "      <td>...</td>\n",
       "      <td>...</td>\n",
       "      <td>...</td>\n",
       "      <td>...</td>\n",
       "      <td>...</td>\n",
       "      <td>...</td>\n",
       "      <td>...</td>\n",
       "      <td>...</td>\n",
       "      <td>...</td>\n",
       "      <td>...</td>\n",
       "      <td>...</td>\n",
       "    </tr>\n",
       "    <tr>\n",
       "      <th>2121</th>\n",
       "      <td>140</td>\n",
       "      <td>0.000000</td>\n",
       "      <td>0.000000</td>\n",
       "      <td>0.007426</td>\n",
       "      <td>0.000000</td>\n",
       "      <td>0.0</td>\n",
       "      <td>0.0</td>\n",
       "      <td>79</td>\n",
       "      <td>0.2</td>\n",
       "      <td>25</td>\n",
       "      <td>...</td>\n",
       "      <td>137</td>\n",
       "      <td>177</td>\n",
       "      <td>4</td>\n",
       "      <td>0</td>\n",
       "      <td>153</td>\n",
       "      <td>150</td>\n",
       "      <td>152</td>\n",
       "      <td>2</td>\n",
       "      <td>0</td>\n",
       "      <td>2</td>\n",
       "    </tr>\n",
       "    <tr>\n",
       "      <th>2122</th>\n",
       "      <td>140</td>\n",
       "      <td>0.000775</td>\n",
       "      <td>0.000000</td>\n",
       "      <td>0.006971</td>\n",
       "      <td>0.000000</td>\n",
       "      <td>0.0</td>\n",
       "      <td>0.0</td>\n",
       "      <td>78</td>\n",
       "      <td>0.4</td>\n",
       "      <td>22</td>\n",
       "      <td>...</td>\n",
       "      <td>103</td>\n",
       "      <td>169</td>\n",
       "      <td>6</td>\n",
       "      <td>0</td>\n",
       "      <td>152</td>\n",
       "      <td>148</td>\n",
       "      <td>151</td>\n",
       "      <td>3</td>\n",
       "      <td>1</td>\n",
       "      <td>2</td>\n",
       "    </tr>\n",
       "    <tr>\n",
       "      <th>2123</th>\n",
       "      <td>140</td>\n",
       "      <td>0.000980</td>\n",
       "      <td>0.000000</td>\n",
       "      <td>0.006863</td>\n",
       "      <td>0.000000</td>\n",
       "      <td>0.0</td>\n",
       "      <td>0.0</td>\n",
       "      <td>79</td>\n",
       "      <td>0.4</td>\n",
       "      <td>20</td>\n",
       "      <td>...</td>\n",
       "      <td>103</td>\n",
       "      <td>170</td>\n",
       "      <td>5</td>\n",
       "      <td>0</td>\n",
       "      <td>153</td>\n",
       "      <td>148</td>\n",
       "      <td>152</td>\n",
       "      <td>4</td>\n",
       "      <td>1</td>\n",
       "      <td>2</td>\n",
       "    </tr>\n",
       "    <tr>\n",
       "      <th>2124</th>\n",
       "      <td>140</td>\n",
       "      <td>0.000679</td>\n",
       "      <td>0.000000</td>\n",
       "      <td>0.006110</td>\n",
       "      <td>0.000000</td>\n",
       "      <td>0.0</td>\n",
       "      <td>0.0</td>\n",
       "      <td>78</td>\n",
       "      <td>0.4</td>\n",
       "      <td>27</td>\n",
       "      <td>...</td>\n",
       "      <td>103</td>\n",
       "      <td>169</td>\n",
       "      <td>6</td>\n",
       "      <td>0</td>\n",
       "      <td>152</td>\n",
       "      <td>147</td>\n",
       "      <td>151</td>\n",
       "      <td>4</td>\n",
       "      <td>1</td>\n",
       "      <td>2</td>\n",
       "    </tr>\n",
       "    <tr>\n",
       "      <th>2125</th>\n",
       "      <td>142</td>\n",
       "      <td>0.001616</td>\n",
       "      <td>0.001616</td>\n",
       "      <td>0.008078</td>\n",
       "      <td>0.000000</td>\n",
       "      <td>0.0</td>\n",
       "      <td>0.0</td>\n",
       "      <td>74</td>\n",
       "      <td>0.4</td>\n",
       "      <td>36</td>\n",
       "      <td>...</td>\n",
       "      <td>117</td>\n",
       "      <td>159</td>\n",
       "      <td>2</td>\n",
       "      <td>1</td>\n",
       "      <td>145</td>\n",
       "      <td>143</td>\n",
       "      <td>145</td>\n",
       "      <td>1</td>\n",
       "      <td>0</td>\n",
       "      <td>1</td>\n",
       "    </tr>\n",
       "  </tbody>\n",
       "</table>\n",
       "<p>2126 rows × 22 columns</p>\n",
       "</div>"
      ],
      "text/plain": [
       "       LB        AC        FM        UC        DL   DS   DP  ASTV  MSTV  ALTV  \\\n",
       "0     120  0.000000  0.000000  0.000000  0.000000  0.0  0.0    73   0.5    43   \n",
       "1     132  0.006380  0.000000  0.006380  0.003190  0.0  0.0    17   2.1     0   \n",
       "2     133  0.003322  0.000000  0.008306  0.003322  0.0  0.0    16   2.1     0   \n",
       "3     134  0.002561  0.000000  0.007682  0.002561  0.0  0.0    16   2.4     0   \n",
       "4     132  0.006515  0.000000  0.008143  0.000000  0.0  0.0    16   2.4     0   \n",
       "...   ...       ...       ...       ...       ...  ...  ...   ...   ...   ...   \n",
       "2121  140  0.000000  0.000000  0.007426  0.000000  0.0  0.0    79   0.2    25   \n",
       "2122  140  0.000775  0.000000  0.006971  0.000000  0.0  0.0    78   0.4    22   \n",
       "2123  140  0.000980  0.000000  0.006863  0.000000  0.0  0.0    79   0.4    20   \n",
       "2124  140  0.000679  0.000000  0.006110  0.000000  0.0  0.0    78   0.4    27   \n",
       "2125  142  0.001616  0.001616  0.008078  0.000000  0.0  0.0    74   0.4    36   \n",
       "\n",
       "      ...  Min  Max  Nmax  Nzeros  Mode  Mean  Median  Variance  Tendency  NSP  \n",
       "0     ...   62  126     2       0   120   137     121        73         1    2  \n",
       "1     ...   68  198     6       1   141   136     140        12         0    1  \n",
       "2     ...   68  198     5       1   141   135     138        13         0    1  \n",
       "3     ...   53  170    11       0   137   134     137        13         1    1  \n",
       "4     ...   53  170     9       0   137   136     138        11         1    1  \n",
       "...   ...  ...  ...   ...     ...   ...   ...     ...       ...       ...  ...  \n",
       "2121  ...  137  177     4       0   153   150     152         2         0    2  \n",
       "2122  ...  103  169     6       0   152   148     151         3         1    2  \n",
       "2123  ...  103  170     5       0   153   148     152         4         1    2  \n",
       "2124  ...  103  169     6       0   152   147     151         4         1    2  \n",
       "2125  ...  117  159     2       1   145   143     145         1         0    1  \n",
       "\n",
       "[2126 rows x 22 columns]"
      ]
     },
     "execution_count": 5,
     "metadata": {},
     "output_type": "execute_result"
    }
   ],
   "source": [
    "path = os.getcwd() + \"/Cardiotocographic.csv\"\n",
    "data = pd.read_csv(path)\n",
    "data"
   ]
  },
  {
   "cell_type": "markdown",
   "metadata": {},
   "source": [
    "Check the different column names."
   ]
  },
  {
   "cell_type": "code",
   "execution_count": 6,
   "metadata": {},
   "outputs": [
    {
     "data": {
      "text/plain": [
       "Index(['LB', 'AC', 'FM', 'UC', 'DL', 'DS', 'DP', 'ASTV', 'MSTV', 'ALTV',\n",
       "       'MLTV', 'Width', 'Min', 'Max', 'Nmax', 'Nzeros', 'Mode', 'Mean',\n",
       "       'Median', 'Variance', 'Tendency', 'NSP'],\n",
       "      dtype='object')"
      ]
     },
     "execution_count": 6,
     "metadata": {},
     "output_type": "execute_result"
    }
   ],
   "source": [
    "data.keys()"
   ]
  },
  {
   "cell_type": "markdown",
   "metadata": {},
   "source": [
    "See the size of the data set."
   ]
  },
  {
   "cell_type": "code",
   "execution_count": 7,
   "metadata": {},
   "outputs": [
    {
     "data": {
      "text/plain": [
       "(2126, 22)"
      ]
     },
     "execution_count": 7,
     "metadata": {},
     "output_type": "execute_result"
    }
   ],
   "source": [
    "data.shape"
   ]
  },
  {
   "cell_type": "code",
   "execution_count": 8,
   "metadata": {},
   "outputs": [
    {
     "name": "stdout",
     "output_type": "stream",
     "text": [
      "<class 'pandas.core.frame.DataFrame'>\n",
      "RangeIndex: 2126 entries, 0 to 2125\n",
      "Data columns (total 22 columns):\n",
      " #   Column    Non-Null Count  Dtype  \n",
      "---  ------    --------------  -----  \n",
      " 0   LB        2126 non-null   int64  \n",
      " 1   AC        2126 non-null   float64\n",
      " 2   FM        2126 non-null   float64\n",
      " 3   UC        2126 non-null   float64\n",
      " 4   DL        2126 non-null   float64\n",
      " 5   DS        2126 non-null   float64\n",
      " 6   DP        2126 non-null   float64\n",
      " 7   ASTV      2126 non-null   int64  \n",
      " 8   MSTV      2126 non-null   float64\n",
      " 9   ALTV      2126 non-null   int64  \n",
      " 10  MLTV      2126 non-null   float64\n",
      " 11  Width     2126 non-null   int64  \n",
      " 12  Min       2126 non-null   int64  \n",
      " 13  Max       2126 non-null   int64  \n",
      " 14  Nmax      2126 non-null   int64  \n",
      " 15  Nzeros    2126 non-null   int64  \n",
      " 16  Mode      2126 non-null   int64  \n",
      " 17  Mean      2126 non-null   int64  \n",
      " 18  Median    2126 non-null   int64  \n",
      " 19  Variance  2126 non-null   int64  \n",
      " 20  Tendency  2126 non-null   int64  \n",
      " 21  NSP       2126 non-null   int64  \n",
      "dtypes: float64(8), int64(14)\n",
      "memory usage: 365.5 KB\n"
     ]
    }
   ],
   "source": [
    "data.info()"
   ]
  },
  {
   "cell_type": "markdown",
   "metadata": {},
   "source": [
    "Check the missing values in the datset."
   ]
  },
  {
   "cell_type": "code",
   "execution_count": 9,
   "metadata": {},
   "outputs": [
    {
     "data": {
      "text/plain": [
       "0"
      ]
     },
     "execution_count": 9,
     "metadata": {},
     "output_type": "execute_result"
    }
   ],
   "source": [
    "data.isnull().sum().sum()"
   ]
  },
  {
   "cell_type": "markdown",
   "metadata": {},
   "source": [
    "Number of Normal, Suspect and Pathologic entries in the dataframe."
   ]
  },
  {
   "cell_type": "code",
   "execution_count": 10,
   "metadata": {},
   "outputs": [
    {
     "data": {
      "text/html": [
       "<div>\n",
       "<style scoped>\n",
       "    .dataframe tbody tr th:only-of-type {\n",
       "        vertical-align: middle;\n",
       "    }\n",
       "\n",
       "    .dataframe tbody tr th {\n",
       "        vertical-align: top;\n",
       "    }\n",
       "\n",
       "    .dataframe thead th {\n",
       "        text-align: right;\n",
       "    }\n",
       "</style>\n",
       "<table border=\"1\" class=\"dataframe\">\n",
       "  <thead>\n",
       "    <tr style=\"text-align: right;\">\n",
       "      <th></th>\n",
       "      <th>Normal : 1</th>\n",
       "      <th>Suspect : 2</th>\n",
       "      <th>Pathologic : 3</th>\n",
       "    </tr>\n",
       "  </thead>\n",
       "  <tbody>\n",
       "    <tr>\n",
       "      <th>Count</th>\n",
       "      <td>1655</td>\n",
       "      <td>295</td>\n",
       "      <td>176</td>\n",
       "    </tr>\n",
       "  </tbody>\n",
       "</table>\n",
       "</div>"
      ],
      "text/plain": [
       "       Normal : 1  Suspect : 2  Pathologic : 3\n",
       "Count        1655          295             176"
      ]
     },
     "execution_count": 10,
     "metadata": {},
     "output_type": "execute_result"
    }
   ],
   "source": [
    "pd.DataFrame({\n",
    "    'Normal : 1' : [sum(data.NSP == 1)],\n",
    "    'Suspect : 2' : [sum(data.NSP == 2)],\n",
    "    'Pathologic : 3' : [sum(data.NSP == 3)]\n",
    "}, index = ['Count'])"
   ]
  },
  {
   "cell_type": "markdown",
   "metadata": {},
   "source": [
    "The data set is highly imbalanced with high number of labels labelled as Normal."
   ]
  },
  {
   "cell_type": "markdown",
   "metadata": {},
   "source": [
    "Calculate the percentage of Normal cases in the dataset."
   ]
  },
  {
   "cell_type": "code",
   "execution_count": 11,
   "metadata": {},
   "outputs": [
    {
     "name": "stdout",
     "output_type": "stream",
     "text": [
      "There are 77.85 percent of Normal cases in the dataset.\n"
     ]
    }
   ],
   "source": [
    "print(\"There are \" + str(round(sum(data.NSP == 1)/(data.shape[0])*100, 2)) + \" percent of Normal cases in the dataset.\" )"
   ]
  },
  {
   "cell_type": "code",
   "execution_count": 12,
   "metadata": {},
   "outputs": [
    {
     "name": "stdout",
     "output_type": "stream",
     "text": [
      "Therefore, our machine learning model should have an accuracy value of more than 77.85 percent.\n"
     ]
    }
   ],
   "source": [
    "print(\"Therefore, our machine learning model should have an accuracy value of more than \" + str(round(sum(data.NSP == 1)/(data.shape[0])*100, 2)) + \" percent.\")"
   ]
  },
  {
   "cell_type": "markdown",
   "metadata": {},
   "source": [
    "Separate features X and target Y."
   ]
  },
  {
   "cell_type": "code",
   "execution_count": 13,
   "metadata": {},
   "outputs": [],
   "source": [
    "X = data.drop(columns= 'NSP')\n",
    "Y = data.NSP"
   ]
  },
  {
   "cell_type": "markdown",
   "metadata": {},
   "source": [
    "Scale the features."
   ]
  },
  {
   "cell_type": "code",
   "execution_count": 14,
   "metadata": {},
   "outputs": [
    {
     "data": {
      "text/plain": [
       "array([[-1.35222005, -0.82140279, -0.20304786, ..., -1.18164215,\n",
       "         1.87056871,  1.11298001],\n",
       "       [-0.1325256 ,  0.83182602, -0.20304786, ...,  0.13203796,\n",
       "        -0.23499819, -0.52452553],\n",
       "       [-0.03088439,  0.03953946, -0.20304786, ..., -0.00624416,\n",
       "        -0.2004807 , -0.52452553],\n",
       "       ...,\n",
       "       [ 0.68060404, -0.56734045, -0.20304786, ...,  0.96173066,\n",
       "        -0.51113811,  1.11298001],\n",
       "       [ 0.68060404, -0.64547355, -0.20304786, ...,  0.8925896 ,\n",
       "        -0.51113811,  1.11298001],\n",
       "       [ 0.88388645, -0.40275392, -0.16842401, ...,  0.47774325,\n",
       "        -0.61469058, -0.52452553]])"
      ]
     },
     "execution_count": 14,
     "metadata": {},
     "output_type": "execute_result"
    }
   ],
   "source": [
    "from sklearn.preprocessing import StandardScaler\n",
    "scalar = StandardScaler()\n",
    "X_scaled = scalar.fit_transform(X)\n",
    "X_scaled"
   ]
  },
  {
   "cell_type": "markdown",
   "metadata": {},
   "source": [
    "Split the data into training and testing datsets."
   ]
  },
  {
   "cell_type": "code",
   "execution_count": 15,
   "metadata": {},
   "outputs": [],
   "source": [
    "from sklearn.model_selection import train_test_split\n",
    "X_train, X_test, Y_train, Y_test = train_test_split(X_scaled, Y,  train_size = 0.70, random_state = 2)"
   ]
  },
  {
   "cell_type": "markdown",
   "metadata": {},
   "source": [
    "# Decision Tree Classifier"
   ]
  },
  {
   "cell_type": "code",
   "execution_count": 16,
   "metadata": {},
   "outputs": [
    {
     "data": {
      "text/plain": [
       "DecisionTreeClassifier(random_state=2)"
      ]
     },
     "execution_count": 16,
     "metadata": {},
     "output_type": "execute_result"
    }
   ],
   "source": [
    "from sklearn.tree import DecisionTreeClassifier\n",
    "dt = DecisionTreeClassifier(random_state = 2)\n",
    "dt.fit(X_train, Y_train)"
   ]
  },
  {
   "cell_type": "markdown",
   "metadata": {},
   "source": [
    "Accuracy of the Decision Tree Classifier model on training data set."
   ]
  },
  {
   "cell_type": "code",
   "execution_count": 17,
   "metadata": {},
   "outputs": [
    {
     "data": {
      "text/plain": [
       "0.9993279569892473"
      ]
     },
     "execution_count": 17,
     "metadata": {},
     "output_type": "execute_result"
    }
   ],
   "source": [
    "from sklearn.metrics import accuracy_score\n",
    "accuracy_score(dt.predict(X_train), Y_train)"
   ]
  },
  {
   "cell_type": "markdown",
   "metadata": {},
   "source": [
    "Accuracy of the Decision Tree Classifier model on testing data set."
   ]
  },
  {
   "cell_type": "code",
   "execution_count": 18,
   "metadata": {},
   "outputs": [
    {
     "data": {
      "text/plain": [
       "0.9106583072100314"
      ]
     },
     "execution_count": 18,
     "metadata": {},
     "output_type": "execute_result"
    }
   ],
   "source": [
    "accuracy_score(dt.predict(X_test), Y_test)"
   ]
  },
  {
   "cell_type": "markdown",
   "metadata": {},
   "source": [
    "GridSearchCV for hyperparameter tuning."
   ]
  },
  {
   "cell_type": "code",
   "execution_count": 19,
   "metadata": {},
   "outputs": [
    {
     "data": {
      "text/plain": [
       "GridSearchCV(cv=5, estimator=DecisionTreeClassifier(random_state=2),\n",
       "             param_grid={'criterion': ('gini', 'entropy'),\n",
       "                         'max_leaf_nodes': array([ 20,  30,  40,  50,  60,  70,  80,  90, 100, 110, 120, 130, 140,\n",
       "       150, 160, 170, 180, 190]),\n",
       "                         'min_samples_split': range(2, 10),\n",
       "                         'splitter': ('best', 'random')},\n",
       "             return_train_score=True)"
      ]
     },
     "execution_count": 19,
     "metadata": {},
     "output_type": "execute_result"
    }
   ],
   "source": [
    "from sklearn.model_selection import GridSearchCV\n",
    "parameter = {\n",
    "    'criterion' : ('gini', 'entropy'),\n",
    "    'splitter' : ('best', 'random'),\n",
    "    'min_samples_split' : range(2, 10),\n",
    "    'max_leaf_nodes' : np.arange(20, 200, 10)\n",
    "}\n",
    "\n",
    "gs_dt = GridSearchCV(\n",
    "    estimator = dt,\n",
    "    param_grid = parameter,\n",
    "    cv = 5,\n",
    "    return_train_score = True    \n",
    ")\n",
    "gs_dt.fit(X_train, Y_train)"
   ]
  },
  {
   "cell_type": "markdown",
   "metadata": {},
   "source": [
    "Best score obtained for the hyperparameter tuning cross-validation."
   ]
  },
  {
   "cell_type": "code",
   "execution_count": 20,
   "metadata": {},
   "outputs": [
    {
     "data": {
      "text/plain": [
       "0.9207014213725623"
      ]
     },
     "execution_count": 20,
     "metadata": {},
     "output_type": "execute_result"
    }
   ],
   "source": [
    "gs_dt.best_score_"
   ]
  },
  {
   "cell_type": "markdown",
   "metadata": {},
   "source": [
    "Best parameter values after the hyperparameter tuning."
   ]
  },
  {
   "cell_type": "code",
   "execution_count": 21,
   "metadata": {},
   "outputs": [
    {
     "data": {
      "text/plain": [
       "{'criterion': 'gini',\n",
       " 'max_leaf_nodes': 50,\n",
       " 'min_samples_split': 5,\n",
       " 'splitter': 'best'}"
      ]
     },
     "execution_count": 21,
     "metadata": {},
     "output_type": "execute_result"
    }
   ],
   "source": [
    "gs_dt.best_params_"
   ]
  },
  {
   "cell_type": "code",
   "execution_count": 22,
   "metadata": {},
   "outputs": [
    {
     "data": {
      "text/html": [
       "<div>\n",
       "<style scoped>\n",
       "    .dataframe tbody tr th:only-of-type {\n",
       "        vertical-align: middle;\n",
       "    }\n",
       "\n",
       "    .dataframe tbody tr th {\n",
       "        vertical-align: top;\n",
       "    }\n",
       "\n",
       "    .dataframe thead th {\n",
       "        text-align: right;\n",
       "    }\n",
       "</style>\n",
       "<table border=\"1\" class=\"dataframe\">\n",
       "  <thead>\n",
       "    <tr style=\"text-align: right;\">\n",
       "      <th></th>\n",
       "      <th>mean_test_score</th>\n",
       "      <th>mean_train_score</th>\n",
       "      <th>params</th>\n",
       "    </tr>\n",
       "  </thead>\n",
       "  <tbody>\n",
       "    <tr>\n",
       "      <th>0</th>\n",
       "      <td>0.915326</td>\n",
       "      <td>0.951613</td>\n",
       "      <td>{'criterion': 'gini', 'max_leaf_nodes': 20, 'm...</td>\n",
       "    </tr>\n",
       "    <tr>\n",
       "      <th>1</th>\n",
       "      <td>0.881728</td>\n",
       "      <td>0.903897</td>\n",
       "      <td>{'criterion': 'gini', 'max_leaf_nodes': 20, 'm...</td>\n",
       "    </tr>\n",
       "    <tr>\n",
       "      <th>2</th>\n",
       "      <td>0.915326</td>\n",
       "      <td>0.951613</td>\n",
       "      <td>{'criterion': 'gini', 'max_leaf_nodes': 20, 'm...</td>\n",
       "    </tr>\n",
       "    <tr>\n",
       "      <th>3</th>\n",
       "      <td>0.881728</td>\n",
       "      <td>0.903897</td>\n",
       "      <td>{'criterion': 'gini', 'max_leaf_nodes': 20, 'm...</td>\n",
       "    </tr>\n",
       "    <tr>\n",
       "      <th>4</th>\n",
       "      <td>0.915326</td>\n",
       "      <td>0.951613</td>\n",
       "      <td>{'criterion': 'gini', 'max_leaf_nodes': 20, 'm...</td>\n",
       "    </tr>\n",
       "  </tbody>\n",
       "</table>\n",
       "</div>"
      ],
      "text/plain": [
       "   mean_test_score  mean_train_score  \\\n",
       "0         0.915326          0.951613   \n",
       "1         0.881728          0.903897   \n",
       "2         0.915326          0.951613   \n",
       "3         0.881728          0.903897   \n",
       "4         0.915326          0.951613   \n",
       "\n",
       "                                              params  \n",
       "0  {'criterion': 'gini', 'max_leaf_nodes': 20, 'm...  \n",
       "1  {'criterion': 'gini', 'max_leaf_nodes': 20, 'm...  \n",
       "2  {'criterion': 'gini', 'max_leaf_nodes': 20, 'm...  \n",
       "3  {'criterion': 'gini', 'max_leaf_nodes': 20, 'm...  \n",
       "4  {'criterion': 'gini', 'max_leaf_nodes': 20, 'm...  "
      ]
     },
     "execution_count": 22,
     "metadata": {},
     "output_type": "execute_result"
    }
   ],
   "source": [
    "gs_results = pd.DataFrame(gs_dt.cv_results_)\n",
    "gs_results = gs_results[['mean_test_score', 'mean_train_score', 'params']]\n",
    "gs_results.head()"
   ]
  },
  {
   "cell_type": "markdown",
   "metadata": {},
   "source": [
    "Best mean_test_score after hyperparameter tuning."
   ]
  },
  {
   "cell_type": "code",
   "execution_count": 23,
   "metadata": {},
   "outputs": [
    {
     "data": {
      "text/html": [
       "<div>\n",
       "<style scoped>\n",
       "    .dataframe tbody tr th:only-of-type {\n",
       "        vertical-align: middle;\n",
       "    }\n",
       "\n",
       "    .dataframe tbody tr th {\n",
       "        vertical-align: top;\n",
       "    }\n",
       "\n",
       "    .dataframe thead th {\n",
       "        text-align: right;\n",
       "    }\n",
       "</style>\n",
       "<table border=\"1\" class=\"dataframe\">\n",
       "  <thead>\n",
       "    <tr style=\"text-align: right;\">\n",
       "      <th></th>\n",
       "      <th>mean_test_score</th>\n",
       "      <th>mean_train_score</th>\n",
       "      <th>params</th>\n",
       "    </tr>\n",
       "  </thead>\n",
       "  <tbody>\n",
       "    <tr>\n",
       "      <th>54</th>\n",
       "      <td>0.920701</td>\n",
       "      <td>0.984375</td>\n",
       "      <td>{'criterion': 'gini', 'max_leaf_nodes': 50, 'm...</td>\n",
       "    </tr>\n",
       "  </tbody>\n",
       "</table>\n",
       "</div>"
      ],
      "text/plain": [
       "    mean_test_score  mean_train_score  \\\n",
       "54         0.920701          0.984375   \n",
       "\n",
       "                                               params  \n",
       "54  {'criterion': 'gini', 'max_leaf_nodes': 50, 'm...  "
      ]
     },
     "execution_count": 23,
     "metadata": {},
     "output_type": "execute_result"
    }
   ],
   "source": [
    "gs_results[gs_results.mean_test_score == gs_dt.best_score_]"
   ]
  },
  {
   "cell_type": "markdown",
   "metadata": {},
   "source": [
    "Decision Tree Classifier model accuracy with optimized parameters."
   ]
  },
  {
   "cell_type": "code",
   "execution_count": 24,
   "metadata": {},
   "outputs": [],
   "source": [
    "dt_optimized = DecisionTreeClassifier(\n",
    "    random_state = 2,\n",
    "    criterion = gs_dt.best_params_['criterion'],\n",
    "    max_leaf_nodes = gs_dt.best_params_['max_leaf_nodes'],\n",
    "    min_samples_split = gs_dt.best_params_['min_samples_split'],\n",
    "    splitter = gs_dt.best_params_['splitter']\n",
    ")\n",
    "dt_optimized.fit(X_train, Y_train)\n",
    "yhat_dt = dt_optimized.predict(X_test)"
   ]
  },
  {
   "cell_type": "markdown",
   "metadata": {},
   "source": [
    "Accuracy of the Optimized Decision Tree Classifier model on training data set."
   ]
  },
  {
   "cell_type": "code",
   "execution_count": 25,
   "metadata": {},
   "outputs": [
    {
     "data": {
      "text/plain": [
       "0.978494623655914"
      ]
     },
     "execution_count": 25,
     "metadata": {},
     "output_type": "execute_result"
    }
   ],
   "source": [
    "accuracy_train_dt = accuracy_score(dt_optimized.predict(X_train), Y_train)\n",
    "accuracy_train_dt"
   ]
  },
  {
   "cell_type": "markdown",
   "metadata": {},
   "source": [
    "Accuracy of the Optimized Decision Tree Classifier model on testing data set."
   ]
  },
  {
   "cell_type": "code",
   "execution_count": 26,
   "metadata": {},
   "outputs": [
    {
     "data": {
      "text/plain": [
       "0.9263322884012539"
      ]
     },
     "execution_count": 26,
     "metadata": {},
     "output_type": "execute_result"
    }
   ],
   "source": [
    "accuracy_test_dt = accuracy_score(yhat_dt, Y_test)\n",
    "accuracy_test_dt"
   ]
  },
  {
   "cell_type": "code",
   "execution_count": 27,
   "metadata": {},
   "outputs": [
    {
     "name": "stdout",
     "output_type": "stream",
     "text": [
      "The overall accuracy for the optimized Decision Tree Classifier model on the testing data set is 92.633 %.\n"
     ]
    }
   ],
   "source": [
    "print(\"The overall accuracy for the optimized Decision Tree Classifier model on the testing data set is\", str(100*round(accuracy_test_dt, 5)),\"%.\")"
   ]
  },
  {
   "cell_type": "markdown",
   "metadata": {},
   "source": [
    "Confusion matrix for Decision Tree Classifier model."
   ]
  },
  {
   "cell_type": "code",
   "execution_count": 28,
   "metadata": {},
   "outputs": [
    {
     "data": {
      "image/png": "[encoded data removed]",
      "text/plain": [
       "<Figure size 432x288 with 2 Axes>"
      ]
     },
     "metadata": {},
     "output_type": "display_data"
    }
   ],
   "source": [
    "from sklearn.metrics import confusion_matrix\n",
    "sns.set(font_scale= 1.5)\n",
    "plt.figure(figsize= (6,4))\n",
    "g =sns.heatmap(confusion_matrix(y_true= Y_test, y_pred= yhat_dt), annot= True, cmap= 'Greens', fmt = 'g')\n",
    "g.set_xticklabels(['1', '2', '3'])\n",
    "g.set_yticklabels(['1', '2', '3']);\n",
    "plt.xlabel('Predicted Label')\n",
    "plt.ylabel('True Label')\n",
    "plt.title('Decision Tree Classifier');"
   ]
  },
  {
   "cell_type": "markdown",
   "metadata": {},
   "source": [
    "# Random Forest Model"
   ]
  },
  {
   "cell_type": "code",
   "execution_count": 29,
   "metadata": {},
   "outputs": [
    {
     "data": {
      "text/plain": [
       "RandomForestClassifier(random_state=2)"
      ]
     },
     "execution_count": 29,
     "metadata": {},
     "output_type": "execute_result"
    }
   ],
   "source": [
    "from sklearn.ensemble import RandomForestClassifier\n",
    "rf = RandomForestClassifier(random_state = 2)\n",
    "rf.fit(X_train, Y_train)"
   ]
  },
  {
   "cell_type": "markdown",
   "metadata": {},
   "source": [
    "Accuracy of the Randorm Forest Model on training data set."
   ]
  },
  {
   "cell_type": "code",
   "execution_count": 30,
   "metadata": {},
   "outputs": [
    {
     "data": {
      "text/plain": [
       "0.9993"
      ]
     },
     "execution_count": 30,
     "metadata": {},
     "output_type": "execute_result"
    }
   ],
   "source": [
    "round(accuracy_score(rf.predict(X_train), Y_train), 4)"
   ]
  },
  {
   "cell_type": "markdown",
   "metadata": {},
   "source": [
    "Accuracy of the Randorm Forest Model on testing data set."
   ]
  },
  {
   "cell_type": "code",
   "execution_count": 31,
   "metadata": {},
   "outputs": [
    {
     "data": {
      "text/plain": [
       "0.942"
      ]
     },
     "execution_count": 31,
     "metadata": {},
     "output_type": "execute_result"
    }
   ],
   "source": [
    "round(accuracy_score(rf.predict(X_test), Y_test), 4)"
   ]
  },
  {
   "cell_type": "markdown",
   "metadata": {},
   "source": [
    "Optimize the number of trees in the model."
   ]
  },
  {
   "cell_type": "code",
   "execution_count": 32,
   "metadata": {},
   "outputs": [],
   "source": [
    "accuracy = []\n",
    "n_trees = np.arange(1, 150, 3)\n",
    "for tree in n_trees:\n",
    "    rf_iter = RandomForestClassifier(n_estimators= tree, random_state = 2)\n",
    "    rf_iter.fit(X_train, Y_train)\n",
    "    accuracy_iter = accuracy_score(rf_iter.predict(X_train), Y_train)\n",
    "    accuracy.append(accuracy_iter)"
   ]
  },
  {
   "cell_type": "code",
   "execution_count": 33,
   "metadata": {},
   "outputs": [
    {
     "data": {
      "text/plain": [
       "Text(0, 0.5, 'Accuracy')"
      ]
     },
     "execution_count": 33,
     "metadata": {},
     "output_type": "execute_result"
    },
    {
     "data": {
      "image/png": "[encoded data removed]",
      "text/plain": [
       "<Figure size 432x288 with 1 Axes>"
      ]
     },
     "metadata": {},
     "output_type": "display_data"
    }
   ],
   "source": [
    "sns.set_style('whitegrid')\n",
    "sns.set(font_scale= 1.5)\n",
    "plt.figure(figsize= (6,4))\n",
    "sns.lineplot(x = n_trees, y = accuracy)\n",
    "plt.xlabel('No. of trees')\n",
    "plt.ylabel('Accuracy')"
   ]
  },
  {
   "cell_type": "code",
   "execution_count": 34,
   "metadata": {},
   "outputs": [
    {
     "name": "stdout",
     "output_type": "stream",
     "text": [
      "The maximum accuracy on training data set obtained is  99.92999999999999 %, and the corresponding number of trees are 37.\n"
     ]
    }
   ],
   "source": [
    "print(\"The maximum accuracy on training data set obtained is \",   str(100*round(max(accuracy), 4)), \"%, and the corresponding number of trees are \"+str(min(n_trees[accuracy == max(accuracy)]))+'.')"
   ]
  },
  {
   "cell_type": "markdown",
   "metadata": {},
   "source": [
    "Random forest model with optimized number of trees."
   ]
  },
  {
   "cell_type": "code",
   "execution_count": 35,
   "metadata": {},
   "outputs": [
    {
     "data": {
      "text/plain": [
       "RandomForestClassifier(n_estimators=37, random_state=2)"
      ]
     },
     "execution_count": 35,
     "metadata": {},
     "output_type": "execute_result"
    }
   ],
   "source": [
    "rf_optimized = RandomForestClassifier(n_estimators= min(n_trees[accuracy == max(accuracy)]), random_state= 2)\n",
    "rf_optimized.fit(X_train, Y_train)"
   ]
  },
  {
   "cell_type": "markdown",
   "metadata": {},
   "source": [
    "Accuracy for the optimized Random forest model on training data set."
   ]
  },
  {
   "cell_type": "code",
   "execution_count": 36,
   "metadata": {},
   "outputs": [
    {
     "data": {
      "text/plain": [
       "0.9993279569892473"
      ]
     },
     "execution_count": 36,
     "metadata": {},
     "output_type": "execute_result"
    }
   ],
   "source": [
    "accuracy_train_rf = accuracy_score(rf_optimized.predict(X_train), Y_train)\n",
    "accuracy_train_rf"
   ]
  },
  {
   "cell_type": "markdown",
   "metadata": {},
   "source": [
    "Accuracy for the optimized Random forest model on testing data set."
   ]
  },
  {
   "cell_type": "code",
   "execution_count": 37,
   "metadata": {},
   "outputs": [
    {
     "data": {
      "text/plain": [
       "0.9373040752351097"
      ]
     },
     "execution_count": 37,
     "metadata": {},
     "output_type": "execute_result"
    }
   ],
   "source": [
    "yhat_rf = rf_optimized.predict(X_test)\n",
    "accuracy_test_rf = accuracy_score(yhat_rf, Y_test)\n",
    "accuracy_test_rf"
   ]
  },
  {
   "cell_type": "code",
   "execution_count": 38,
   "metadata": {},
   "outputs": [
    {
     "name": "stdout",
     "output_type": "stream",
     "text": [
      "On the testing dataset using the Random Forest model, an overall accuracy of 93.73040752351098% is achieved.\n"
     ]
    }
   ],
   "source": [
    "print(\"On the testing dataset using the Random Forest model, an overall accuracy of \" + str(100*accuracy_test_rf)+ \"% is achieved.\")"
   ]
  },
  {
   "cell_type": "markdown",
   "metadata": {},
   "source": [
    "Confusion Matrix for Random Forest Model."
   ]
  },
  {
   "cell_type": "code",
   "execution_count": 39,
   "metadata": {},
   "outputs": [
    {
     "data": {
      "image/png": "[encoded data removed]",
      "text/plain": [
       "<Figure size 432x288 with 2 Axes>"
      ]
     },
     "metadata": {},
     "output_type": "display_data"
    }
   ],
   "source": [
    "sns.set_style('whitegrid')\n",
    "sns.set(font_scale= 1.5)\n",
    "plt.figure(figsize = (6,4))\n",
    "g = sns.heatmap(confusion_matrix(y_pred = yhat_rf, y_true = Y_test), annot = True, cmap= 'Greens', fmt = 'g')\n",
    "plt.xlabel('Predicted Label')\n",
    "plt.ylabel('True Label')\n",
    "g.set_xticklabels(['1', '2', '3'])\n",
    "g.set_yticklabels(['1', '2', '3']);\n",
    "plt.title('RandomForestClassifier');"
   ]
  },
  {
   "cell_type": "markdown",
   "metadata": {},
   "source": [
    "# K-Nearest Neighbors Model"
   ]
  },
  {
   "cell_type": "code",
   "execution_count": 40,
   "metadata": {},
   "outputs": [
    {
     "data": {
      "text/plain": [
       "KNeighborsClassifier()"
      ]
     },
     "execution_count": 40,
     "metadata": {},
     "output_type": "execute_result"
    }
   ],
   "source": [
    "from sklearn.neighbors import KNeighborsClassifier\n",
    "knn = KNeighborsClassifier()\n",
    "knn.fit(X_train, Y_train)"
   ]
  },
  {
   "cell_type": "markdown",
   "metadata": {},
   "source": [
    "Accuracy of the Randorm K-Nearest neighbors model on training data set."
   ]
  },
  {
   "cell_type": "code",
   "execution_count": 41,
   "metadata": {},
   "outputs": [
    {
     "data": {
      "text/plain": [
       "0.9348118279569892"
      ]
     },
     "execution_count": 41,
     "metadata": {},
     "output_type": "execute_result"
    }
   ],
   "source": [
    "accuracy_score(knn.predict(X_train), Y_train)"
   ]
  },
  {
   "cell_type": "markdown",
   "metadata": {},
   "source": [
    "Accuracy of the Randorm K-Nearest neighbors model on testing data set."
   ]
  },
  {
   "cell_type": "code",
   "execution_count": 42,
   "metadata": {},
   "outputs": [
    {
     "data": {
      "text/plain": [
       "0.8996865203761756"
      ]
     },
     "execution_count": 42,
     "metadata": {},
     "output_type": "execute_result"
    }
   ],
   "source": [
    "accuracy_score(knn.predict(X_test), Y_test)"
   ]
  },
  {
   "cell_type": "markdown",
   "metadata": {},
   "source": [
    "GridSearchCV for hyperparameter tuning.\n",
    "\n"
   ]
  },
  {
   "cell_type": "code",
   "execution_count": 43,
   "metadata": {},
   "outputs": [
    {
     "data": {
      "text/plain": [
       "GridSearchCV(cv=5, estimator=KNeighborsClassifier(),\n",
       "             param_grid={'algorithm': ('auto', 'ball_tree', 'kd_tree', 'brute'),\n",
       "                         'n_neighbors': range(1, 30),\n",
       "                         'weights': ('uniform', 'distance')},\n",
       "             return_train_score=True)"
      ]
     },
     "execution_count": 43,
     "metadata": {},
     "output_type": "execute_result"
    }
   ],
   "source": [
    "parameters = {\n",
    "    'n_neighbors' : range(1, 30),\n",
    "    'algorithm' : ('auto', 'ball_tree', 'kd_tree', 'brute'),\n",
    "    'weights' : ('uniform', 'distance')\n",
    "}\n",
    "gs_knn = GridSearchCV(\n",
    "    estimator = knn,\n",
    "    param_grid = parameters,\n",
    "    cv = 5,\n",
    "    return_train_score =  True\n",
    ")\n",
    "gs_knn.fit(X_train, Y_train)"
   ]
  },
  {
   "cell_type": "markdown",
   "metadata": {},
   "source": [
    "Best score obtained for the hyperparameter tuning cross-validation."
   ]
  },
  {
   "cell_type": "code",
   "execution_count": 44,
   "metadata": {},
   "outputs": [
    {
     "data": {
      "text/plain": [
       "0.90726"
      ]
     },
     "execution_count": 44,
     "metadata": {},
     "output_type": "execute_result"
    }
   ],
   "source": [
    "round(gs_knn.best_score_, 5)"
   ]
  },
  {
   "cell_type": "markdown",
   "metadata": {},
   "source": [
    "Best parameter values after the hyperparameter tuning.\n",
    "\n"
   ]
  },
  {
   "cell_type": "code",
   "execution_count": 45,
   "metadata": {},
   "outputs": [
    {
     "data": {
      "text/plain": [
       "{'algorithm': 'auto', 'n_neighbors': 5, 'weights': 'distance'}"
      ]
     },
     "execution_count": 45,
     "metadata": {},
     "output_type": "execute_result"
    }
   ],
   "source": [
    "gs_knn.best_params_"
   ]
  },
  {
   "cell_type": "code",
   "execution_count": 46,
   "metadata": {},
   "outputs": [
    {
     "data": {
      "text/html": [
       "<div>\n",
       "<style scoped>\n",
       "    .dataframe tbody tr th:only-of-type {\n",
       "        vertical-align: middle;\n",
       "    }\n",
       "\n",
       "    .dataframe tbody tr th {\n",
       "        vertical-align: top;\n",
       "    }\n",
       "\n",
       "    .dataframe thead th {\n",
       "        text-align: right;\n",
       "    }\n",
       "</style>\n",
       "<table border=\"1\" class=\"dataframe\">\n",
       "  <thead>\n",
       "    <tr style=\"text-align: right;\">\n",
       "      <th></th>\n",
       "      <th>mean_test_score</th>\n",
       "      <th>mean_train_score</th>\n",
       "      <th>params</th>\n",
       "    </tr>\n",
       "  </thead>\n",
       "  <tbody>\n",
       "    <tr>\n",
       "      <th>0</th>\n",
       "      <td>0.897175</td>\n",
       "      <td>0.999496</td>\n",
       "      <td>{'algorithm': 'auto', 'n_neighbors': 1, 'weigh...</td>\n",
       "    </tr>\n",
       "    <tr>\n",
       "      <th>1</th>\n",
       "      <td>0.897175</td>\n",
       "      <td>0.999496</td>\n",
       "      <td>{'algorithm': 'auto', 'n_neighbors': 1, 'weigh...</td>\n",
       "    </tr>\n",
       "    <tr>\n",
       "      <th>2</th>\n",
       "      <td>0.889784</td>\n",
       "      <td>0.944893</td>\n",
       "      <td>{'algorithm': 'auto', 'n_neighbors': 2, 'weigh...</td>\n",
       "    </tr>\n",
       "    <tr>\n",
       "      <th>3</th>\n",
       "      <td>0.897175</td>\n",
       "      <td>0.999496</td>\n",
       "      <td>{'algorithm': 'auto', 'n_neighbors': 2, 'weigh...</td>\n",
       "    </tr>\n",
       "    <tr>\n",
       "      <th>4</th>\n",
       "      <td>0.891137</td>\n",
       "      <td>0.948253</td>\n",
       "      <td>{'algorithm': 'auto', 'n_neighbors': 3, 'weigh...</td>\n",
       "    </tr>\n",
       "    <tr>\n",
       "      <th>...</th>\n",
       "      <td>...</td>\n",
       "      <td>...</td>\n",
       "      <td>...</td>\n",
       "    </tr>\n",
       "    <tr>\n",
       "      <th>227</th>\n",
       "      <td>0.892477</td>\n",
       "      <td>0.999496</td>\n",
       "      <td>{'algorithm': 'brute', 'n_neighbors': 27, 'wei...</td>\n",
       "    </tr>\n",
       "    <tr>\n",
       "      <th>228</th>\n",
       "      <td>0.881723</td>\n",
       "      <td>0.889785</td>\n",
       "      <td>{'algorithm': 'brute', 'n_neighbors': 28, 'wei...</td>\n",
       "    </tr>\n",
       "    <tr>\n",
       "      <th>229</th>\n",
       "      <td>0.891133</td>\n",
       "      <td>0.999496</td>\n",
       "      <td>{'algorithm': 'brute', 'n_neighbors': 28, 'wei...</td>\n",
       "    </tr>\n",
       "    <tr>\n",
       "      <th>230</th>\n",
       "      <td>0.880383</td>\n",
       "      <td>0.890289</td>\n",
       "      <td>{'algorithm': 'brute', 'n_neighbors': 29, 'wei...</td>\n",
       "    </tr>\n",
       "    <tr>\n",
       "      <th>231</th>\n",
       "      <td>0.889113</td>\n",
       "      <td>0.999496</td>\n",
       "      <td>{'algorithm': 'brute', 'n_neighbors': 29, 'wei...</td>\n",
       "    </tr>\n",
       "  </tbody>\n",
       "</table>\n",
       "<p>232 rows × 3 columns</p>\n",
       "</div>"
      ],
      "text/plain": [
       "     mean_test_score  mean_train_score  \\\n",
       "0           0.897175          0.999496   \n",
       "1           0.897175          0.999496   \n",
       "2           0.889784          0.944893   \n",
       "3           0.897175          0.999496   \n",
       "4           0.891137          0.948253   \n",
       "..               ...               ...   \n",
       "227         0.892477          0.999496   \n",
       "228         0.881723          0.889785   \n",
       "229         0.891133          0.999496   \n",
       "230         0.880383          0.890289   \n",
       "231         0.889113          0.999496   \n",
       "\n",
       "                                                params  \n",
       "0    {'algorithm': 'auto', 'n_neighbors': 1, 'weigh...  \n",
       "1    {'algorithm': 'auto', 'n_neighbors': 1, 'weigh...  \n",
       "2    {'algorithm': 'auto', 'n_neighbors': 2, 'weigh...  \n",
       "3    {'algorithm': 'auto', 'n_neighbors': 2, 'weigh...  \n",
       "4    {'algorithm': 'auto', 'n_neighbors': 3, 'weigh...  \n",
       "..                                                 ...  \n",
       "227  {'algorithm': 'brute', 'n_neighbors': 27, 'wei...  \n",
       "228  {'algorithm': 'brute', 'n_neighbors': 28, 'wei...  \n",
       "229  {'algorithm': 'brute', 'n_neighbors': 28, 'wei...  \n",
       "230  {'algorithm': 'brute', 'n_neighbors': 29, 'wei...  \n",
       "231  {'algorithm': 'brute', 'n_neighbors': 29, 'wei...  \n",
       "\n",
       "[232 rows x 3 columns]"
      ]
     },
     "execution_count": 46,
     "metadata": {},
     "output_type": "execute_result"
    }
   ],
   "source": [
    "gs_results = pd.DataFrame(gs_knn.cv_results_)\n",
    "gs_results = gs_results[['mean_test_score', 'mean_train_score', 'params']]\n",
    "gs_results"
   ]
  },
  {
   "cell_type": "markdown",
   "metadata": {},
   "source": [
    "Best mean_test_score after hyperparameter tuning."
   ]
  },
  {
   "cell_type": "code",
   "execution_count": 47,
   "metadata": {},
   "outputs": [
    {
     "data": {
      "text/html": [
       "<div>\n",
       "<style scoped>\n",
       "    .dataframe tbody tr th:only-of-type {\n",
       "        vertical-align: middle;\n",
       "    }\n",
       "\n",
       "    .dataframe tbody tr th {\n",
       "        vertical-align: top;\n",
       "    }\n",
       "\n",
       "    .dataframe thead th {\n",
       "        text-align: right;\n",
       "    }\n",
       "</style>\n",
       "<table border=\"1\" class=\"dataframe\">\n",
       "  <thead>\n",
       "    <tr style=\"text-align: right;\">\n",
       "      <th></th>\n",
       "      <th>mean_test_score</th>\n",
       "      <th>mean_train_score</th>\n",
       "      <th>params</th>\n",
       "    </tr>\n",
       "  </thead>\n",
       "  <tbody>\n",
       "    <tr>\n",
       "      <th>9</th>\n",
       "      <td>0.907261</td>\n",
       "      <td>0.999496</td>\n",
       "      <td>{'algorithm': 'auto', 'n_neighbors': 5, 'weigh...</td>\n",
       "    </tr>\n",
       "    <tr>\n",
       "      <th>67</th>\n",
       "      <td>0.907261</td>\n",
       "      <td>0.999496</td>\n",
       "      <td>{'algorithm': 'ball_tree', 'n_neighbors': 5, '...</td>\n",
       "    </tr>\n",
       "    <tr>\n",
       "      <th>125</th>\n",
       "      <td>0.907261</td>\n",
       "      <td>0.999496</td>\n",
       "      <td>{'algorithm': 'kd_tree', 'n_neighbors': 5, 'we...</td>\n",
       "    </tr>\n",
       "    <tr>\n",
       "      <th>183</th>\n",
       "      <td>0.907261</td>\n",
       "      <td>0.999496</td>\n",
       "      <td>{'algorithm': 'brute', 'n_neighbors': 5, 'weig...</td>\n",
       "    </tr>\n",
       "  </tbody>\n",
       "</table>\n",
       "</div>"
      ],
      "text/plain": [
       "     mean_test_score  mean_train_score  \\\n",
       "9           0.907261          0.999496   \n",
       "67          0.907261          0.999496   \n",
       "125         0.907261          0.999496   \n",
       "183         0.907261          0.999496   \n",
       "\n",
       "                                                params  \n",
       "9    {'algorithm': 'auto', 'n_neighbors': 5, 'weigh...  \n",
       "67   {'algorithm': 'ball_tree', 'n_neighbors': 5, '...  \n",
       "125  {'algorithm': 'kd_tree', 'n_neighbors': 5, 'we...  \n",
       "183  {'algorithm': 'brute', 'n_neighbors': 5, 'weig...  "
      ]
     },
     "execution_count": 47,
     "metadata": {},
     "output_type": "execute_result"
    }
   ],
   "source": [
    "gs_results[gs_results.mean_test_score == gs_knn.best_score_]"
   ]
  },
  {
   "cell_type": "markdown",
   "metadata": {},
   "source": [
    "K-Nearest Neighbors model accuracy with optimized parameters."
   ]
  },
  {
   "cell_type": "code",
   "execution_count": 48,
   "metadata": {},
   "outputs": [
    {
     "data": {
      "text/plain": [
       "{'algorithm': 'auto', 'n_neighbors': 5, 'weights': 'distance'}"
      ]
     },
     "execution_count": 48,
     "metadata": {},
     "output_type": "execute_result"
    }
   ],
   "source": [
    "gs_knn.best_params_"
   ]
  },
  {
   "cell_type": "code",
   "execution_count": 49,
   "metadata": {},
   "outputs": [],
   "source": [
    "knn_optimized = KNeighborsClassifier(\n",
    "    n_neighbors = gs_knn.best_params_['n_neighbors'],\n",
    "    algorithm = gs_knn.best_params_['algorithm'],\n",
    "    weights = gs_knn.best_params_['weights']\n",
    ")\n",
    "knn_optimized.fit(X_train, Y_train)\n",
    "yhat_knn = knn_optimized.predict(X_test)"
   ]
  },
  {
   "cell_type": "markdown",
   "metadata": {},
   "source": [
    "Overall accuracy of optimized K-Nearest Neighbors classifier on training set."
   ]
  },
  {
   "cell_type": "code",
   "execution_count": 50,
   "metadata": {},
   "outputs": [],
   "source": [
    "accuracy_train_knn = accuracy_score(knn_optimized.predict(X_train), Y_train)"
   ]
  },
  {
   "cell_type": "markdown",
   "metadata": {},
   "source": [
    "Overall accuracy of optimized K-Nearest Neighbors classifier on testing set."
   ]
  },
  {
   "cell_type": "code",
   "execution_count": 51,
   "metadata": {},
   "outputs": [
    {
     "data": {
      "text/plain": [
       "0.9106583072100314"
      ]
     },
     "execution_count": 51,
     "metadata": {},
     "output_type": "execute_result"
    }
   ],
   "source": [
    "accuracy_test_knn = accuracy_score(yhat_knn, Y_test)\n",
    "accuracy_test_knn"
   ]
  },
  {
   "cell_type": "code",
   "execution_count": 52,
   "metadata": {},
   "outputs": [
    {
     "name": "stdout",
     "output_type": "stream",
     "text": [
      "The overall accuracy for the optimized K-Nearest Neighbors model on the testing data set is 91.07 %.\n"
     ]
    }
   ],
   "source": [
    "print(\"The overall accuracy for the optimized K-Nearest Neighbors model on the testing data set is\", str(100*round(accuracy_test_knn, 4)),\"%.\")"
   ]
  },
  {
   "cell_type": "markdown",
   "metadata": {},
   "source": [
    "Confusion Matrix for optimized K-Nearest Neighbors model."
   ]
  },
  {
   "cell_type": "code",
   "execution_count": 53,
   "metadata": {},
   "outputs": [
    {
     "data": {
      "image/png": "[encoded data removed]",
      "text/plain": [
       "<Figure size 432x288 with 2 Axes>"
      ]
     },
     "metadata": {},
     "output_type": "display_data"
    }
   ],
   "source": [
    "sns.set(font_scale= 1.5)\n",
    "plt.figure(figsize= (6,4))\n",
    "g =sns.heatmap(confusion_matrix(y_true= Y_test, y_pred= yhat_knn), annot= True, cmap= 'Greens', fmt = 'g')\n",
    "g.set_xticklabels(['1', '2', '3'])\n",
    "g.set_yticklabels(['1', '2', '3']);\n",
    "plt.xlabel('Predicted Label')\n",
    "plt.ylabel('True Label')\n",
    "plt.title('KNeighborsClassifier');"
   ]
  },
  {
   "cell_type": "markdown",
   "metadata": {},
   "source": [
    "# Logistic Regression Model"
   ]
  },
  {
   "cell_type": "code",
   "execution_count": 54,
   "metadata": {},
   "outputs": [
    {
     "data": {
      "text/plain": [
       "LogisticRegression(max_iter=1000, random_state=2)"
      ]
     },
     "execution_count": 54,
     "metadata": {},
     "output_type": "execute_result"
    }
   ],
   "source": [
    "from sklearn.linear_model import LogisticRegression\n",
    "lr = LogisticRegression(max_iter = 1000, random_state = 2)\n",
    "lr.fit(X_train, Y_train)"
   ]
  },
  {
   "cell_type": "markdown",
   "metadata": {},
   "source": [
    "Accuracy of the logistic regression model on training data set."
   ]
  },
  {
   "cell_type": "code",
   "execution_count": 55,
   "metadata": {},
   "outputs": [
    {
     "data": {
      "text/plain": [
       "0.9018817204301075"
      ]
     },
     "execution_count": 55,
     "metadata": {},
     "output_type": "execute_result"
    }
   ],
   "source": [
    "accuracy_score(lr.predict(X_train), Y_train)"
   ]
  },
  {
   "cell_type": "markdown",
   "metadata": {},
   "source": [
    "Accuracy of the logistic regression model on testing data set."
   ]
  },
  {
   "cell_type": "code",
   "execution_count": 56,
   "metadata": {},
   "outputs": [
    {
     "data": {
      "text/plain": [
       "0.9043887147335423"
      ]
     },
     "execution_count": 56,
     "metadata": {},
     "output_type": "execute_result"
    }
   ],
   "source": [
    "accuracy_score(lr.predict(X_test), Y_test)"
   ]
  },
  {
   "cell_type": "markdown",
   "metadata": {},
   "source": [
    "GridSearchCV for hyperparameter tuning."
   ]
  },
  {
   "cell_type": "code",
   "execution_count": 57,
   "metadata": {},
   "outputs": [
    {
     "data": {
      "text/plain": [
       "GridSearchCV(cv=5, estimator=LogisticRegression(max_iter=1000, random_state=2),\n",
       "             param_grid={'C': (0.01, 0.1, 1),\n",
       "                         'solver': ('newton-cg', 'lbfgs', 'liblinear', 'sag',\n",
       "                                    'saga'),\n",
       "                         'warm_start': (True, False)},\n",
       "             return_train_score=True)"
      ]
     },
     "execution_count": 57,
     "metadata": {},
     "output_type": "execute_result"
    }
   ],
   "source": [
    "parameters = {\n",
    "    'C' : (0.01, 0.1, 1),\n",
    "    'solver' : ('newton-cg', 'lbfgs', 'liblinear', 'sag', 'saga'),\n",
    "    'warm_start' : (True, False)\n",
    "}\n",
    "gs_lr = GridSearchCV(\n",
    "    estimator = lr,\n",
    "    param_grid = parameters,\n",
    "    cv = 5,\n",
    "    return_train_score = True\n",
    ")\n",
    "gs_lr.fit(X_train, Y_train)"
   ]
  },
  {
   "cell_type": "markdown",
   "metadata": {},
   "source": [
    "Best score obtained for the hyperparameter tuning cross-validation."
   ]
  },
  {
   "cell_type": "code",
   "execution_count": 58,
   "metadata": {},
   "outputs": [
    {
     "data": {
      "text/plain": [
       "0.8985243938264074"
      ]
     },
     "execution_count": 58,
     "metadata": {},
     "output_type": "execute_result"
    }
   ],
   "source": [
    "gs_lr.best_score_"
   ]
  },
  {
   "cell_type": "markdown",
   "metadata": {},
   "source": [
    "Best parameter values after the hyperparameter tuning."
   ]
  },
  {
   "cell_type": "code",
   "execution_count": 59,
   "metadata": {},
   "outputs": [
    {
     "data": {
      "text/plain": [
       "{'C': 1, 'solver': 'newton-cg', 'warm_start': True}"
      ]
     },
     "execution_count": 59,
     "metadata": {},
     "output_type": "execute_result"
    }
   ],
   "source": [
    "gs_lr.best_params_"
   ]
  },
  {
   "cell_type": "code",
   "execution_count": 60,
   "metadata": {},
   "outputs": [
    {
     "data": {
      "text/html": [
       "<div>\n",
       "<style scoped>\n",
       "    .dataframe tbody tr th:only-of-type {\n",
       "        vertical-align: middle;\n",
       "    }\n",
       "\n",
       "    .dataframe tbody tr th {\n",
       "        vertical-align: top;\n",
       "    }\n",
       "\n",
       "    .dataframe thead th {\n",
       "        text-align: right;\n",
       "    }\n",
       "</style>\n",
       "<table border=\"1\" class=\"dataframe\">\n",
       "  <thead>\n",
       "    <tr style=\"text-align: right;\">\n",
       "      <th></th>\n",
       "      <th>mean_test_score</th>\n",
       "      <th>mean_train_score</th>\n",
       "      <th>params</th>\n",
       "    </tr>\n",
       "  </thead>\n",
       "  <tbody>\n",
       "    <tr>\n",
       "      <th>0</th>\n",
       "      <td>0.878354</td>\n",
       "      <td>0.880544</td>\n",
       "      <td>{'C': 0.01, 'solver': 'newton-cg', 'warm_start...</td>\n",
       "    </tr>\n",
       "    <tr>\n",
       "      <th>1</th>\n",
       "      <td>0.878354</td>\n",
       "      <td>0.880544</td>\n",
       "      <td>{'C': 0.01, 'solver': 'newton-cg', 'warm_start...</td>\n",
       "    </tr>\n",
       "    <tr>\n",
       "      <th>2</th>\n",
       "      <td>0.878354</td>\n",
       "      <td>0.880544</td>\n",
       "      <td>{'C': 0.01, 'solver': 'lbfgs', 'warm_start': T...</td>\n",
       "    </tr>\n",
       "    <tr>\n",
       "      <th>3</th>\n",
       "      <td>0.878354</td>\n",
       "      <td>0.880544</td>\n",
       "      <td>{'C': 0.01, 'solver': 'lbfgs', 'warm_start': F...</td>\n",
       "    </tr>\n",
       "    <tr>\n",
       "      <th>4</th>\n",
       "      <td>0.870967</td>\n",
       "      <td>0.875671</td>\n",
       "      <td>{'C': 0.01, 'solver': 'liblinear', 'warm_start...</td>\n",
       "    </tr>\n",
       "    <tr>\n",
       "      <th>5</th>\n",
       "      <td>0.870967</td>\n",
       "      <td>0.875671</td>\n",
       "      <td>{'C': 0.01, 'solver': 'liblinear', 'warm_start...</td>\n",
       "    </tr>\n",
       "    <tr>\n",
       "      <th>6</th>\n",
       "      <td>0.878354</td>\n",
       "      <td>0.880544</td>\n",
       "      <td>{'C': 0.01, 'solver': 'sag', 'warm_start': True}</td>\n",
       "    </tr>\n",
       "    <tr>\n",
       "      <th>7</th>\n",
       "      <td>0.878354</td>\n",
       "      <td>0.880544</td>\n",
       "      <td>{'C': 0.01, 'solver': 'sag', 'warm_start': False}</td>\n",
       "    </tr>\n",
       "    <tr>\n",
       "      <th>8</th>\n",
       "      <td>0.878354</td>\n",
       "      <td>0.880544</td>\n",
       "      <td>{'C': 0.01, 'solver': 'saga', 'warm_start': True}</td>\n",
       "    </tr>\n",
       "    <tr>\n",
       "      <th>9</th>\n",
       "      <td>0.878354</td>\n",
       "      <td>0.880544</td>\n",
       "      <td>{'C': 0.01, 'solver': 'saga', 'warm_start': Fa...</td>\n",
       "    </tr>\n",
       "    <tr>\n",
       "      <th>10</th>\n",
       "      <td>0.895148</td>\n",
       "      <td>0.901714</td>\n",
       "      <td>{'C': 0.1, 'solver': 'newton-cg', 'warm_start'...</td>\n",
       "    </tr>\n",
       "    <tr>\n",
       "      <th>11</th>\n",
       "      <td>0.895148</td>\n",
       "      <td>0.901714</td>\n",
       "      <td>{'C': 0.1, 'solver': 'newton-cg', 'warm_start'...</td>\n",
       "    </tr>\n",
       "    <tr>\n",
       "      <th>12</th>\n",
       "      <td>0.895148</td>\n",
       "      <td>0.901714</td>\n",
       "      <td>{'C': 0.1, 'solver': 'lbfgs', 'warm_start': True}</td>\n",
       "    </tr>\n",
       "    <tr>\n",
       "      <th>13</th>\n",
       "      <td>0.895148</td>\n",
       "      <td>0.901714</td>\n",
       "      <td>{'C': 0.1, 'solver': 'lbfgs', 'warm_start': Fa...</td>\n",
       "    </tr>\n",
       "    <tr>\n",
       "      <th>14</th>\n",
       "      <td>0.885079</td>\n",
       "      <td>0.893481</td>\n",
       "      <td>{'C': 0.1, 'solver': 'liblinear', 'warm_start'...</td>\n",
       "    </tr>\n",
       "    <tr>\n",
       "      <th>15</th>\n",
       "      <td>0.885079</td>\n",
       "      <td>0.893481</td>\n",
       "      <td>{'C': 0.1, 'solver': 'liblinear', 'warm_start'...</td>\n",
       "    </tr>\n",
       "    <tr>\n",
       "      <th>16</th>\n",
       "      <td>0.895148</td>\n",
       "      <td>0.901714</td>\n",
       "      <td>{'C': 0.1, 'solver': 'sag', 'warm_start': True}</td>\n",
       "    </tr>\n",
       "    <tr>\n",
       "      <th>17</th>\n",
       "      <td>0.895148</td>\n",
       "      <td>0.901714</td>\n",
       "      <td>{'C': 0.1, 'solver': 'sag', 'warm_start': False}</td>\n",
       "    </tr>\n",
       "    <tr>\n",
       "      <th>18</th>\n",
       "      <td>0.895148</td>\n",
       "      <td>0.901714</td>\n",
       "      <td>{'C': 0.1, 'solver': 'saga', 'warm_start': True}</td>\n",
       "    </tr>\n",
       "    <tr>\n",
       "      <th>19</th>\n",
       "      <td>0.895148</td>\n",
       "      <td>0.901714</td>\n",
       "      <td>{'C': 0.1, 'solver': 'saga', 'warm_start': False}</td>\n",
       "    </tr>\n",
       "    <tr>\n",
       "      <th>20</th>\n",
       "      <td>0.898524</td>\n",
       "      <td>0.905242</td>\n",
       "      <td>{'C': 1, 'solver': 'newton-cg', 'warm_start': ...</td>\n",
       "    </tr>\n",
       "    <tr>\n",
       "      <th>21</th>\n",
       "      <td>0.898524</td>\n",
       "      <td>0.905242</td>\n",
       "      <td>{'C': 1, 'solver': 'newton-cg', 'warm_start': ...</td>\n",
       "    </tr>\n",
       "    <tr>\n",
       "      <th>22</th>\n",
       "      <td>0.898524</td>\n",
       "      <td>0.905242</td>\n",
       "      <td>{'C': 1, 'solver': 'lbfgs', 'warm_start': True}</td>\n",
       "    </tr>\n",
       "    <tr>\n",
       "      <th>23</th>\n",
       "      <td>0.898524</td>\n",
       "      <td>0.905242</td>\n",
       "      <td>{'C': 1, 'solver': 'lbfgs', 'warm_start': False}</td>\n",
       "    </tr>\n",
       "    <tr>\n",
       "      <th>24</th>\n",
       "      <td>0.896504</td>\n",
       "      <td>0.901545</td>\n",
       "      <td>{'C': 1, 'solver': 'liblinear', 'warm_start': ...</td>\n",
       "    </tr>\n",
       "    <tr>\n",
       "      <th>25</th>\n",
       "      <td>0.896504</td>\n",
       "      <td>0.901545</td>\n",
       "      <td>{'C': 1, 'solver': 'liblinear', 'warm_start': ...</td>\n",
       "    </tr>\n",
       "    <tr>\n",
       "      <th>26</th>\n",
       "      <td>0.897851</td>\n",
       "      <td>0.905242</td>\n",
       "      <td>{'C': 1, 'solver': 'sag', 'warm_start': True}</td>\n",
       "    </tr>\n",
       "    <tr>\n",
       "      <th>27</th>\n",
       "      <td>0.897851</td>\n",
       "      <td>0.905242</td>\n",
       "      <td>{'C': 1, 'solver': 'sag', 'warm_start': False}</td>\n",
       "    </tr>\n",
       "    <tr>\n",
       "      <th>28</th>\n",
       "      <td>0.897851</td>\n",
       "      <td>0.905242</td>\n",
       "      <td>{'C': 1, 'solver': 'saga', 'warm_start': True}</td>\n",
       "    </tr>\n",
       "    <tr>\n",
       "      <th>29</th>\n",
       "      <td>0.897851</td>\n",
       "      <td>0.905242</td>\n",
       "      <td>{'C': 1, 'solver': 'saga', 'warm_start': False}</td>\n",
       "    </tr>\n",
       "  </tbody>\n",
       "</table>\n",
       "</div>"
      ],
      "text/plain": [
       "    mean_test_score  mean_train_score  \\\n",
       "0          0.878354          0.880544   \n",
       "1          0.878354          0.880544   \n",
       "2          0.878354          0.880544   \n",
       "3          0.878354          0.880544   \n",
       "4          0.870967          0.875671   \n",
       "5          0.870967          0.875671   \n",
       "6          0.878354          0.880544   \n",
       "7          0.878354          0.880544   \n",
       "8          0.878354          0.880544   \n",
       "9          0.878354          0.880544   \n",
       "10         0.895148          0.901714   \n",
       "11         0.895148          0.901714   \n",
       "12         0.895148          0.901714   \n",
       "13         0.895148          0.901714   \n",
       "14         0.885079          0.893481   \n",
       "15         0.885079          0.893481   \n",
       "16         0.895148          0.901714   \n",
       "17         0.895148          0.901714   \n",
       "18         0.895148          0.901714   \n",
       "19         0.895148          0.901714   \n",
       "20         0.898524          0.905242   \n",
       "21         0.898524          0.905242   \n",
       "22         0.898524          0.905242   \n",
       "23         0.898524          0.905242   \n",
       "24         0.896504          0.901545   \n",
       "25         0.896504          0.901545   \n",
       "26         0.897851          0.905242   \n",
       "27         0.897851          0.905242   \n",
       "28         0.897851          0.905242   \n",
       "29         0.897851          0.905242   \n",
       "\n",
       "                                               params  \n",
       "0   {'C': 0.01, 'solver': 'newton-cg', 'warm_start...  \n",
       "1   {'C': 0.01, 'solver': 'newton-cg', 'warm_start...  \n",
       "2   {'C': 0.01, 'solver': 'lbfgs', 'warm_start': T...  \n",
       "3   {'C': 0.01, 'solver': 'lbfgs', 'warm_start': F...  \n",
       "4   {'C': 0.01, 'solver': 'liblinear', 'warm_start...  \n",
       "5   {'C': 0.01, 'solver': 'liblinear', 'warm_start...  \n",
       "6    {'C': 0.01, 'solver': 'sag', 'warm_start': True}  \n",
       "7   {'C': 0.01, 'solver': 'sag', 'warm_start': False}  \n",
       "8   {'C': 0.01, 'solver': 'saga', 'warm_start': True}  \n",
       "9   {'C': 0.01, 'solver': 'saga', 'warm_start': Fa...  \n",
       "10  {'C': 0.1, 'solver': 'newton-cg', 'warm_start'...  \n",
       "11  {'C': 0.1, 'solver': 'newton-cg', 'warm_start'...  \n",
       "12  {'C': 0.1, 'solver': 'lbfgs', 'warm_start': True}  \n",
       "13  {'C': 0.1, 'solver': 'lbfgs', 'warm_start': Fa...  \n",
       "14  {'C': 0.1, 'solver': 'liblinear', 'warm_start'...  \n",
       "15  {'C': 0.1, 'solver': 'liblinear', 'warm_start'...  \n",
       "16    {'C': 0.1, 'solver': 'sag', 'warm_start': True}  \n",
       "17   {'C': 0.1, 'solver': 'sag', 'warm_start': False}  \n",
       "18   {'C': 0.1, 'solver': 'saga', 'warm_start': True}  \n",
       "19  {'C': 0.1, 'solver': 'saga', 'warm_start': False}  \n",
       "20  {'C': 1, 'solver': 'newton-cg', 'warm_start': ...  \n",
       "21  {'C': 1, 'solver': 'newton-cg', 'warm_start': ...  \n",
       "22    {'C': 1, 'solver': 'lbfgs', 'warm_start': True}  \n",
       "23   {'C': 1, 'solver': 'lbfgs', 'warm_start': False}  \n",
       "24  {'C': 1, 'solver': 'liblinear', 'warm_start': ...  \n",
       "25  {'C': 1, 'solver': 'liblinear', 'warm_start': ...  \n",
       "26      {'C': 1, 'solver': 'sag', 'warm_start': True}  \n",
       "27     {'C': 1, 'solver': 'sag', 'warm_start': False}  \n",
       "28     {'C': 1, 'solver': 'saga', 'warm_start': True}  \n",
       "29    {'C': 1, 'solver': 'saga', 'warm_start': False}  "
      ]
     },
     "execution_count": 60,
     "metadata": {},
     "output_type": "execute_result"
    }
   ],
   "source": [
    "gs_results = pd.DataFrame(gs_lr.cv_results_)\n",
    "gs_results = gs_results[['mean_test_score', 'mean_train_score', 'params']]\n",
    "gs_results"
   ]
  },
  {
   "cell_type": "code",
   "execution_count": 61,
   "metadata": {},
   "outputs": [
    {
     "data": {
      "text/plain": [
       "{'C': 1, 'solver': 'newton-cg', 'warm_start': True}"
      ]
     },
     "execution_count": 61,
     "metadata": {},
     "output_type": "execute_result"
    }
   ],
   "source": [
    "gs_lr.best_params_"
   ]
  },
  {
   "cell_type": "markdown",
   "metadata": {},
   "source": [
    "Optimized Linear Regression Model."
   ]
  },
  {
   "cell_type": "code",
   "execution_count": 62,
   "metadata": {},
   "outputs": [],
   "source": [
    "lr_optimized = LogisticRegression(\n",
    "    random_state = 2,\n",
    "    C = gs_lr.best_params_['C'],\n",
    "    solver = gs_lr.best_params_['solver'],\n",
    "    warm_start = gs_lr.best_params_['warm_start']\n",
    ")\n",
    "lr_optimized.fit(X_train, Y_train)\n",
    "yhat_lr = lr_optimized.predict(X_test)"
   ]
  },
  {
   "cell_type": "markdown",
   "metadata": {},
   "source": [
    "Overall accuracy for the Logistic Regression model on training set."
   ]
  },
  {
   "cell_type": "code",
   "execution_count": 63,
   "metadata": {},
   "outputs": [
    {
     "data": {
      "text/plain": [
       "0.9018817204301075"
      ]
     },
     "execution_count": 63,
     "metadata": {},
     "output_type": "execute_result"
    }
   ],
   "source": [
    "accuracy_train_lr = accuracy_score(lr_optimized.predict(X_train), Y_train)\n",
    "accuracy_train_lr"
   ]
  },
  {
   "cell_type": "markdown",
   "metadata": {},
   "source": [
    "Overall accuracy for the Logistic Regression model on testing set."
   ]
  },
  {
   "cell_type": "code",
   "execution_count": 64,
   "metadata": {},
   "outputs": [
    {
     "data": {
      "text/plain": [
       "0.9043887147335423"
      ]
     },
     "execution_count": 64,
     "metadata": {},
     "output_type": "execute_result"
    }
   ],
   "source": [
    "accuracy_test_lr = accuracy_score(yhat_lr, Y_test)\n",
    "accuracy_test_lr"
   ]
  },
  {
   "cell_type": "code",
   "execution_count": 65,
   "metadata": {},
   "outputs": [
    {
     "name": "stdout",
     "output_type": "stream",
     "text": [
      "The overall accuracy for the optimized Logistic regression model on the testing data set is 90.44 %.\n"
     ]
    }
   ],
   "source": [
    "print(\"The overall accuracy for the optimized Logistic regression model on the testing data set is\", str(100*round(accuracy_test_lr, 4)),\"%.\")"
   ]
  },
  {
   "cell_type": "markdown",
   "metadata": {},
   "source": [
    "The accuracy did not improve after hyperparameter tuning, which indicates that the default parameters for the logistic regression model are the optimum parameters."
   ]
  },
  {
   "cell_type": "markdown",
   "metadata": {},
   "source": [
    "# Support Vector Machine Model"
   ]
  },
  {
   "cell_type": "code",
   "execution_count": 66,
   "metadata": {},
   "outputs": [
    {
     "data": {
      "text/plain": [
       "SVC(random_state=2)"
      ]
     },
     "execution_count": 66,
     "metadata": {},
     "output_type": "execute_result"
    }
   ],
   "source": [
    "from sklearn.svm import SVC\n",
    "svc = SVC(random_state = 2)\n",
    "svc.fit(X_train, Y_train)"
   ]
  },
  {
   "cell_type": "markdown",
   "metadata": {},
   "source": [
    "Accuracy of the Support Vector Machine model on training data set."
   ]
  },
  {
   "cell_type": "code",
   "execution_count": 67,
   "metadata": {},
   "outputs": [
    {
     "data": {
      "text/plain": [
       "0.92406"
      ]
     },
     "execution_count": 67,
     "metadata": {},
     "output_type": "execute_result"
    }
   ],
   "source": [
    "round(accuracy_score(svc.predict(X_train), Y_train), 5)"
   ]
  },
  {
   "cell_type": "markdown",
   "metadata": {},
   "source": [
    "Accuracy of the Support Vector Machine model on testing data set."
   ]
  },
  {
   "cell_type": "code",
   "execution_count": 68,
   "metadata": {},
   "outputs": [
    {
     "data": {
      "text/plain": [
       "0.91693"
      ]
     },
     "execution_count": 68,
     "metadata": {},
     "output_type": "execute_result"
    }
   ],
   "source": [
    "round(accuracy_score(svc.predict(X_test), Y_test), 5)"
   ]
  },
  {
   "cell_type": "markdown",
   "metadata": {},
   "source": [
    "GridSearchCV for hyperparameter tuning."
   ]
  },
  {
   "cell_type": "code",
   "execution_count": 69,
   "metadata": {},
   "outputs": [
    {
     "data": {
      "text/plain": [
       "GridSearchCV(cv=5, estimator=SVC(random_state=2),\n",
       "             param_grid={'C': (0.001, 0.01, 0.1, 1, 10, 100),\n",
       "                         'gamma': ('auto', 'scale'),\n",
       "                         'kernel': ('linear', 'poly', 'rbf', 'sigmoid')},\n",
       "             return_train_score=True)"
      ]
     },
     "execution_count": 69,
     "metadata": {},
     "output_type": "execute_result"
    }
   ],
   "source": [
    "parameters = {\n",
    " 'C' : (0.001, 0.01, 0.1, 1, 10, 100),\n",
    " 'kernel' : ('linear', 'poly', 'rbf', 'sigmoid'),\n",
    " 'gamma' : ('auto', 'scale'),\n",
    "}\n",
    "gs_svm = GridSearchCV(\n",
    "    estimator = svc,\n",
    "    param_grid = parameters,\n",
    "    cv = 5,\n",
    "    return_train_score = True\n",
    ")\n",
    "gs_svm.fit(X_train, Y_train)"
   ]
  },
  {
   "cell_type": "markdown",
   "metadata": {},
   "source": [
    "Best score obtained for the hyperparameter tuning cross-validation."
   ]
  },
  {
   "cell_type": "code",
   "execution_count": 70,
   "metadata": {},
   "outputs": [
    {
     "data": {
      "text/plain": [
       "0.9274218697037488"
      ]
     },
     "execution_count": 70,
     "metadata": {},
     "output_type": "execute_result"
    }
   ],
   "source": [
    "gs_svm.best_score_"
   ]
  },
  {
   "cell_type": "markdown",
   "metadata": {},
   "source": [
    "Best parameter values after the hyperparameter tuning."
   ]
  },
  {
   "cell_type": "code",
   "execution_count": 71,
   "metadata": {},
   "outputs": [
    {
     "data": {
      "text/plain": [
       "{'C': 10, 'gamma': 'scale', 'kernel': 'rbf'}"
      ]
     },
     "execution_count": 71,
     "metadata": {},
     "output_type": "execute_result"
    }
   ],
   "source": [
    "gs_svm.best_params_"
   ]
  },
  {
   "cell_type": "code",
   "execution_count": 72,
   "metadata": {},
   "outputs": [
    {
     "data": {
      "text/plain": [
       "Index(['mean_fit_time', 'std_fit_time', 'mean_score_time', 'std_score_time',\n",
       "       'param_C', 'param_gamma', 'param_kernel', 'params', 'split0_test_score',\n",
       "       'split1_test_score', 'split2_test_score', 'split3_test_score',\n",
       "       'split4_test_score', 'mean_test_score', 'std_test_score',\n",
       "       'rank_test_score', 'split0_train_score', 'split1_train_score',\n",
       "       'split2_train_score', 'split3_train_score', 'split4_train_score',\n",
       "       'mean_train_score', 'std_train_score'],\n",
       "      dtype='object')"
      ]
     },
     "execution_count": 72,
     "metadata": {},
     "output_type": "execute_result"
    }
   ],
   "source": [
    "gs_results = pd.DataFrame(gs_svm.cv_results_)\n",
    "gs_results.columns"
   ]
  },
  {
   "cell_type": "code",
   "execution_count": 73,
   "metadata": {},
   "outputs": [
    {
     "data": {
      "text/html": [
       "<div>\n",
       "<style scoped>\n",
       "    .dataframe tbody tr th:only-of-type {\n",
       "        vertical-align: middle;\n",
       "    }\n",
       "\n",
       "    .dataframe tbody tr th {\n",
       "        vertical-align: top;\n",
       "    }\n",
       "\n",
       "    .dataframe thead th {\n",
       "        text-align: right;\n",
       "    }\n",
       "</style>\n",
       "<table border=\"1\" class=\"dataframe\">\n",
       "  <thead>\n",
       "    <tr style=\"text-align: right;\">\n",
       "      <th></th>\n",
       "      <th>mean_test_score</th>\n",
       "      <th>mean_train_score</th>\n",
       "      <th>params</th>\n",
       "    </tr>\n",
       "  </thead>\n",
       "  <tbody>\n",
       "    <tr>\n",
       "      <th>0</th>\n",
       "      <td>0.794357</td>\n",
       "      <td>0.796371</td>\n",
       "      <td>{'C': 0.001, 'gamma': 'auto', 'kernel': 'linear'}</td>\n",
       "    </tr>\n",
       "    <tr>\n",
       "      <th>1</th>\n",
       "      <td>0.790324</td>\n",
       "      <td>0.791163</td>\n",
       "      <td>{'C': 0.001, 'gamma': 'auto', 'kernel': 'poly'}</td>\n",
       "    </tr>\n",
       "    <tr>\n",
       "      <th>2</th>\n",
       "      <td>0.775538</td>\n",
       "      <td>0.775538</td>\n",
       "      <td>{'C': 0.001, 'gamma': 'auto', 'kernel': 'rbf'}</td>\n",
       "    </tr>\n",
       "    <tr>\n",
       "      <th>3</th>\n",
       "      <td>0.775538</td>\n",
       "      <td>0.775538</td>\n",
       "      <td>{'C': 0.001, 'gamma': 'auto', 'kernel': 'sigmo...</td>\n",
       "    </tr>\n",
       "    <tr>\n",
       "      <th>4</th>\n",
       "      <td>0.794357</td>\n",
       "      <td>0.796371</td>\n",
       "      <td>{'C': 0.001, 'gamma': 'scale', 'kernel': 'line...</td>\n",
       "    </tr>\n",
       "  </tbody>\n",
       "</table>\n",
       "</div>"
      ],
      "text/plain": [
       "   mean_test_score  mean_train_score  \\\n",
       "0         0.794357          0.796371   \n",
       "1         0.790324          0.791163   \n",
       "2         0.775538          0.775538   \n",
       "3         0.775538          0.775538   \n",
       "4         0.794357          0.796371   \n",
       "\n",
       "                                              params  \n",
       "0  {'C': 0.001, 'gamma': 'auto', 'kernel': 'linear'}  \n",
       "1    {'C': 0.001, 'gamma': 'auto', 'kernel': 'poly'}  \n",
       "2     {'C': 0.001, 'gamma': 'auto', 'kernel': 'rbf'}  \n",
       "3  {'C': 0.001, 'gamma': 'auto', 'kernel': 'sigmo...  \n",
       "4  {'C': 0.001, 'gamma': 'scale', 'kernel': 'line...  "
      ]
     },
     "execution_count": 73,
     "metadata": {},
     "output_type": "execute_result"
    }
   ],
   "source": [
    "gs_results = gs_results[['mean_test_score', 'mean_train_score', 'params']]\n",
    "gs_results.head()"
   ]
  },
  {
   "cell_type": "markdown",
   "metadata": {},
   "source": [
    "Best mean_test_score after hyperparameter tuning."
   ]
  },
  {
   "cell_type": "code",
   "execution_count": 74,
   "metadata": {},
   "outputs": [
    {
     "data": {
      "text/html": [
       "<div>\n",
       "<style scoped>\n",
       "    .dataframe tbody tr th:only-of-type {\n",
       "        vertical-align: middle;\n",
       "    }\n",
       "\n",
       "    .dataframe tbody tr th {\n",
       "        vertical-align: top;\n",
       "    }\n",
       "\n",
       "    .dataframe thead th {\n",
       "        text-align: right;\n",
       "    }\n",
       "</style>\n",
       "<table border=\"1\" class=\"dataframe\">\n",
       "  <thead>\n",
       "    <tr style=\"text-align: right;\">\n",
       "      <th></th>\n",
       "      <th>mean_test_score</th>\n",
       "      <th>mean_train_score</th>\n",
       "      <th>params</th>\n",
       "    </tr>\n",
       "  </thead>\n",
       "  <tbody>\n",
       "    <tr>\n",
       "      <th>38</th>\n",
       "      <td>0.927422</td>\n",
       "      <td>0.963878</td>\n",
       "      <td>{'C': 10, 'gamma': 'scale', 'kernel': 'rbf'}</td>\n",
       "    </tr>\n",
       "  </tbody>\n",
       "</table>\n",
       "</div>"
      ],
      "text/plain": [
       "    mean_test_score  mean_train_score  \\\n",
       "38         0.927422          0.963878   \n",
       "\n",
       "                                          params  \n",
       "38  {'C': 10, 'gamma': 'scale', 'kernel': 'rbf'}  "
      ]
     },
     "execution_count": 74,
     "metadata": {},
     "output_type": "execute_result"
    }
   ],
   "source": [
    "gs_results[gs_results.mean_test_score == gs_svm.best_score_]"
   ]
  },
  {
   "cell_type": "markdown",
   "metadata": {},
   "source": [
    "Support Vector Machine model accuracy with optimized parameters."
   ]
  },
  {
   "cell_type": "code",
   "execution_count": 75,
   "metadata": {},
   "outputs": [],
   "source": [
    "svc_optimized = SVC(\n",
    "    random_state = 2,\n",
    "    C = gs_svm.best_params_['C'],\n",
    "    gamma = gs_svm.best_params_['gamma'],\n",
    "    kernel = gs_svm.best_params_['kernel']\n",
    ")\n",
    "svc_optimized.fit(X_train, Y_train)\n",
    "yhat_svc = svc_optimized.predict(X_test)"
   ]
  },
  {
   "cell_type": "markdown",
   "metadata": {},
   "source": [
    "Accuracy of the Optimized Support Vector Machine model on training data set."
   ]
  },
  {
   "cell_type": "code",
   "execution_count": 76,
   "metadata": {},
   "outputs": [
    {
     "data": {
      "text/plain": [
       "0.9623655913978495"
      ]
     },
     "execution_count": 76,
     "metadata": {},
     "output_type": "execute_result"
    }
   ],
   "source": [
    "accuracy_train_svc = accuracy_score(svc_optimized.predict(X_train), Y_train)\n",
    "accuracy_train_svc"
   ]
  },
  {
   "cell_type": "markdown",
   "metadata": {},
   "source": [
    "Accuracy of the Optimized Support Vector Machine model on testing data set."
   ]
  },
  {
   "cell_type": "code",
   "execution_count": 77,
   "metadata": {},
   "outputs": [
    {
     "data": {
      "text/plain": [
       "0.9341692789968652"
      ]
     },
     "execution_count": 77,
     "metadata": {},
     "output_type": "execute_result"
    }
   ],
   "source": [
    "accuracy_test_svc = accuracy_score(yhat_svc, Y_test)\n",
    "accuracy_test_svc"
   ]
  },
  {
   "cell_type": "code",
   "execution_count": 78,
   "metadata": {},
   "outputs": [
    {
     "name": "stdout",
     "output_type": "stream",
     "text": [
      "The overall accuracy for the optimized Support Vector Machine model on the testing data set is 93.42 %.\n"
     ]
    }
   ],
   "source": [
    "print(\"The overall accuracy for the optimized Support Vector Machine model on the testing data set is\", str(100*round(accuracy_test_svc, 4)),\"%.\")\n"
   ]
  },
  {
   "cell_type": "markdown",
   "metadata": {},
   "source": [
    "Confusion Matrix for optimized Support Vector Machine model."
   ]
  },
  {
   "cell_type": "code",
   "execution_count": 79,
   "metadata": {},
   "outputs": [
    {
     "data": {
      "image/png": "[encoded data removed]",
      "text/plain": [
       "<Figure size 432x288 with 2 Axes>"
      ]
     },
     "metadata": {},
     "output_type": "display_data"
    }
   ],
   "source": [
    "sns.set(font_scale= 1.5)\n",
    "plt.figure(figsize= (6,4))\n",
    "g =sns.heatmap(confusion_matrix(y_true= Y_test, y_pred= yhat_svc), annot= True, cmap= 'Greens', fmt = 'g')\n",
    "g.set_xticklabels(['1', '2', '3'])\n",
    "g.set_yticklabels(['1', '2', '3']);\n",
    "plt.xlabel('Predicted Label')\n",
    "plt.ylabel('True Label')\n",
    "plt.title('Support Vector Machine');"
   ]
  },
  {
   "cell_type": "markdown",
   "metadata": {},
   "source": [
    "# AdaBoost Classifier"
   ]
  },
  {
   "cell_type": "code",
   "execution_count": 80,
   "metadata": {},
   "outputs": [
    {
     "data": {
      "text/plain": [
       "AdaBoostClassifier(random_state=2)"
      ]
     },
     "execution_count": 80,
     "metadata": {},
     "output_type": "execute_result"
    }
   ],
   "source": [
    "from sklearn.ensemble import AdaBoostClassifier\n",
    "adb = AdaBoostClassifier(random_state = 2)\n",
    "adb.fit(X_train, Y_train)"
   ]
  },
  {
   "cell_type": "markdown",
   "metadata": {},
   "source": [
    "Accuracy of the AdaBoost Classifier model on training data set."
   ]
  },
  {
   "cell_type": "code",
   "execution_count": 81,
   "metadata": {},
   "outputs": [
    {
     "data": {
      "text/plain": [
       "0.90121"
      ]
     },
     "execution_count": 81,
     "metadata": {},
     "output_type": "execute_result"
    }
   ],
   "source": [
    "round(accuracy_score(adb.predict(X_train), Y_train), 5)"
   ]
  },
  {
   "cell_type": "markdown",
   "metadata": {},
   "source": [
    "Accuracy of the AdaBoost Classifier model on testing data set."
   ]
  },
  {
   "cell_type": "code",
   "execution_count": 82,
   "metadata": {},
   "outputs": [
    {
     "data": {
      "text/plain": [
       "0.88088"
      ]
     },
     "execution_count": 82,
     "metadata": {},
     "output_type": "execute_result"
    }
   ],
   "source": [
    "round(accuracy_score(adb.predict(X_test), Y_test), 5)"
   ]
  },
  {
   "cell_type": "markdown",
   "metadata": {},
   "source": [
    "GridSearchCV for hyperparameter tuning."
   ]
  },
  {
   "cell_type": "code",
   "execution_count": 83,
   "metadata": {},
   "outputs": [
    {
     "data": {
      "text/plain": [
       "GridSearchCV(cv=5, estimator=AdaBoostClassifier(random_state=2),\n",
       "             param_grid={'algorithm': ('SAMME', 'SAMME.R'),\n",
       "                         'base_estimator': [DecisionTreeClassifier(),\n",
       "                                            LogisticRegression()],\n",
       "                         'learning_rate': (0.0001, 0.001, 0.01, 1)},\n",
       "             return_train_score=True)"
      ]
     },
     "execution_count": 83,
     "metadata": {},
     "output_type": "execute_result"
    }
   ],
   "source": [
    "from sklearn.tree import DecisionTreeClassifier\n",
    "parameter = {\n",
    "    'base_estimator' : [DecisionTreeClassifier(), LogisticRegression()],\n",
    "    'learning_rate' : (0.0001, 0.001, 0.01, 1),\n",
    "    'algorithm' : ('SAMME', 'SAMME.R'),\n",
    "}\n",
    "gs_adb = GridSearchCV(\n",
    "    estimator = adb,\n",
    "    param_grid = parameter,\n",
    "    cv = 5,\n",
    "    return_train_score = True\n",
    ")\n",
    "gs_adb.fit(X_train, Y_train)"
   ]
  },
  {
   "cell_type": "markdown",
   "metadata": {},
   "source": [
    "Best score obtained for the hyperparameter tuning cross-validation.\n",
    "\n"
   ]
  },
  {
   "cell_type": "code",
   "execution_count": 84,
   "metadata": {},
   "outputs": [
    {
     "data": {
      "text/plain": [
       "0.9274173502361421"
      ]
     },
     "execution_count": 84,
     "metadata": {},
     "output_type": "execute_result"
    }
   ],
   "source": [
    "gs_adb.best_score_"
   ]
  },
  {
   "cell_type": "markdown",
   "metadata": {},
   "source": [
    "Best parameter values after the hyperparameter tuning."
   ]
  },
  {
   "cell_type": "code",
   "execution_count": 85,
   "metadata": {},
   "outputs": [
    {
     "data": {
      "text/plain": [
       "{'algorithm': 'SAMME.R',\n",
       " 'base_estimator': DecisionTreeClassifier(),\n",
       " 'learning_rate': 1}"
      ]
     },
     "execution_count": 85,
     "metadata": {},
     "output_type": "execute_result"
    }
   ],
   "source": [
    "gs_adb.best_params_"
   ]
  },
  {
   "cell_type": "code",
   "execution_count": 86,
   "metadata": {},
   "outputs": [
    {
     "data": {
      "text/plain": [
       "Index(['mean_fit_time', 'std_fit_time', 'mean_score_time', 'std_score_time',\n",
       "       'param_algorithm', 'param_base_estimator', 'param_learning_rate',\n",
       "       'params', 'split0_test_score', 'split1_test_score', 'split2_test_score',\n",
       "       'split3_test_score', 'split4_test_score', 'mean_test_score',\n",
       "       'std_test_score', 'rank_test_score', 'split0_train_score',\n",
       "       'split1_train_score', 'split2_train_score', 'split3_train_score',\n",
       "       'split4_train_score', 'mean_train_score', 'std_train_score'],\n",
       "      dtype='object')"
      ]
     },
     "execution_count": 86,
     "metadata": {},
     "output_type": "execute_result"
    }
   ],
   "source": [
    "gs_results = pd.DataFrame(gs_adb.cv_results_)\n",
    "gs_results.columns"
   ]
  },
  {
   "cell_type": "code",
   "execution_count": 87,
   "metadata": {},
   "outputs": [
    {
     "data": {
      "text/html": [
       "<div>\n",
       "<style scoped>\n",
       "    .dataframe tbody tr th:only-of-type {\n",
       "        vertical-align: middle;\n",
       "    }\n",
       "\n",
       "    .dataframe tbody tr th {\n",
       "        vertical-align: top;\n",
       "    }\n",
       "\n",
       "    .dataframe thead th {\n",
       "        text-align: right;\n",
       "    }\n",
       "</style>\n",
       "<table border=\"1\" class=\"dataframe\">\n",
       "  <thead>\n",
       "    <tr style=\"text-align: right;\">\n",
       "      <th></th>\n",
       "      <th>mean_test_score</th>\n",
       "      <th>mean_train_score</th>\n",
       "      <th>params</th>\n",
       "    </tr>\n",
       "  </thead>\n",
       "  <tbody>\n",
       "    <tr>\n",
       "      <th>0</th>\n",
       "      <td>0.918679</td>\n",
       "      <td>0.999496</td>\n",
       "      <td>{'algorithm': 'SAMME', 'base_estimator': Decis...</td>\n",
       "    </tr>\n",
       "    <tr>\n",
       "      <th>1</th>\n",
       "      <td>0.917337</td>\n",
       "      <td>0.999496</td>\n",
       "      <td>{'algorithm': 'SAMME', 'base_estimator': Decis...</td>\n",
       "    </tr>\n",
       "    <tr>\n",
       "      <th>2</th>\n",
       "      <td>0.918008</td>\n",
       "      <td>0.999496</td>\n",
       "      <td>{'algorithm': 'SAMME', 'base_estimator': Decis...</td>\n",
       "    </tr>\n",
       "    <tr>\n",
       "      <th>3</th>\n",
       "      <td>0.922713</td>\n",
       "      <td>0.999496</td>\n",
       "      <td>{'algorithm': 'SAMME', 'base_estimator': Decis...</td>\n",
       "    </tr>\n",
       "    <tr>\n",
       "      <th>4</th>\n",
       "      <td>0.783601</td>\n",
       "      <td>0.786626</td>\n",
       "      <td>{'algorithm': 'SAMME', 'base_estimator': Logis...</td>\n",
       "    </tr>\n",
       "  </tbody>\n",
       "</table>\n",
       "</div>"
      ],
      "text/plain": [
       "   mean_test_score  mean_train_score  \\\n",
       "0         0.918679          0.999496   \n",
       "1         0.917337          0.999496   \n",
       "2         0.918008          0.999496   \n",
       "3         0.922713          0.999496   \n",
       "4         0.783601          0.786626   \n",
       "\n",
       "                                              params  \n",
       "0  {'algorithm': 'SAMME', 'base_estimator': Decis...  \n",
       "1  {'algorithm': 'SAMME', 'base_estimator': Decis...  \n",
       "2  {'algorithm': 'SAMME', 'base_estimator': Decis...  \n",
       "3  {'algorithm': 'SAMME', 'base_estimator': Decis...  \n",
       "4  {'algorithm': 'SAMME', 'base_estimator': Logis...  "
      ]
     },
     "execution_count": 87,
     "metadata": {},
     "output_type": "execute_result"
    }
   ],
   "source": [
    "gs_results = gs_results[['mean_test_score', 'mean_train_score', 'params']]\n",
    "gs_results.head()"
   ]
  },
  {
   "cell_type": "markdown",
   "metadata": {},
   "source": [
    "Best mean_test_score after hyperparameter tuning."
   ]
  },
  {
   "cell_type": "code",
   "execution_count": 88,
   "metadata": {},
   "outputs": [
    {
     "data": {
      "text/html": [
       "<div>\n",
       "<style scoped>\n",
       "    .dataframe tbody tr th:only-of-type {\n",
       "        vertical-align: middle;\n",
       "    }\n",
       "\n",
       "    .dataframe tbody tr th {\n",
       "        vertical-align: top;\n",
       "    }\n",
       "\n",
       "    .dataframe thead th {\n",
       "        text-align: right;\n",
       "    }\n",
       "</style>\n",
       "<table border=\"1\" class=\"dataframe\">\n",
       "  <thead>\n",
       "    <tr style=\"text-align: right;\">\n",
       "      <th></th>\n",
       "      <th>mean_test_score</th>\n",
       "      <th>mean_train_score</th>\n",
       "      <th>params</th>\n",
       "    </tr>\n",
       "  </thead>\n",
       "  <tbody>\n",
       "    <tr>\n",
       "      <th>11</th>\n",
       "      <td>0.927417</td>\n",
       "      <td>0.999496</td>\n",
       "      <td>{'algorithm': 'SAMME.R', 'base_estimator': Dec...</td>\n",
       "    </tr>\n",
       "  </tbody>\n",
       "</table>\n",
       "</div>"
      ],
      "text/plain": [
       "    mean_test_score  mean_train_score  \\\n",
       "11         0.927417          0.999496   \n",
       "\n",
       "                                               params  \n",
       "11  {'algorithm': 'SAMME.R', 'base_estimator': Dec...  "
      ]
     },
     "execution_count": 88,
     "metadata": {},
     "output_type": "execute_result"
    }
   ],
   "source": [
    "gs_results[gs_results.mean_test_score == gs_adb.best_score_]"
   ]
  },
  {
   "cell_type": "markdown",
   "metadata": {},
   "source": [
    "Ada Boost Classifier accuracy with optimized parameters."
   ]
  },
  {
   "cell_type": "code",
   "execution_count": 89,
   "metadata": {},
   "outputs": [],
   "source": [
    "adb_optimized = AdaBoostClassifier(\n",
    "    random_state = 2,\n",
    "    base_estimator = gs_adb.best_params_['base_estimator'],\n",
    "    learning_rate = gs_adb.best_params_['learning_rate'],\n",
    "    algorithm = gs_adb.best_params_['algorithm']\n",
    ")\n",
    "adb_optimized.fit(X_train, Y_train)\n",
    "yhat_adb = adb_optimized.predict(X_test)"
   ]
  },
  {
   "cell_type": "markdown",
   "metadata": {},
   "source": [
    "Accuracy of the Optimized AdaBoost Classifier model on training data set."
   ]
  },
  {
   "cell_type": "code",
   "execution_count": 90,
   "metadata": {},
   "outputs": [
    {
     "data": {
      "text/plain": [
       "0.9993279569892473"
      ]
     },
     "execution_count": 90,
     "metadata": {},
     "output_type": "execute_result"
    }
   ],
   "source": [
    "accuracy_train_adb = accuracy_score(adb_optimized.predict(X_train), Y_train)\n",
    "accuracy_train_adb"
   ]
  },
  {
   "cell_type": "markdown",
   "metadata": {},
   "source": [
    "Accuracy of the Optimized AdaBoost Classifier model on testing data set."
   ]
  },
  {
   "cell_type": "code",
   "execution_count": 91,
   "metadata": {},
   "outputs": [
    {
     "data": {
      "text/plain": [
       "0.9420062695924765"
      ]
     },
     "execution_count": 91,
     "metadata": {},
     "output_type": "execute_result"
    }
   ],
   "source": [
    "accuracy_test_adb = accuracy_score(adb_optimized.predict(X_test), Y_test)\n",
    "accuracy_test_adb"
   ]
  },
  {
   "cell_type": "code",
   "execution_count": 92,
   "metadata": {},
   "outputs": [
    {
     "name": "stdout",
     "output_type": "stream",
     "text": [
      "The overall accuracy for the optimized Ada Boost Classifier model on the testing data set is 94.19999999999999 %.\n"
     ]
    }
   ],
   "source": [
    "print(\"The overall accuracy for the optimized Ada Boost Classifier model on the testing data set is\", str(100*round(accuracy_test_adb, 4)),\"%.\")"
   ]
  },
  {
   "cell_type": "markdown",
   "metadata": {},
   "source": [
    "Confusion Matrix for optimized Ada Boost Classifier model."
   ]
  },
  {
   "cell_type": "code",
   "execution_count": 93,
   "metadata": {},
   "outputs": [
    {
     "data": {
      "image/png": "[encoded data removed]",
      "text/plain": [
       "<Figure size 432x288 with 2 Axes>"
      ]
     },
     "metadata": {},
     "output_type": "display_data"
    }
   ],
   "source": [
    "sns.set(font_scale= 1.5)\n",
    "plt.figure(figsize= (6,4))\n",
    "g =sns.heatmap(confusion_matrix(y_true= Y_test, y_pred= yhat_adb), annot= True, cmap= 'Greens', fmt = 'g')\n",
    "g.set_xticklabels(['1', '2', '3'])\n",
    "g.set_yticklabels(['1', '2', '3']);\n",
    "plt.xlabel('Predicted Label')\n",
    "plt.ylabel('True Label')\n",
    "plt.title('Ada Boost Classifier');"
   ]
  },
  {
   "cell_type": "markdown",
   "metadata": {},
   "source": [
    "# Gradient Boosting Classifier Model."
   ]
  },
  {
   "cell_type": "code",
   "execution_count": 94,
   "metadata": {},
   "outputs": [
    {
     "data": {
      "text/plain": [
       "GradientBoostingClassifier(random_state=2)"
      ]
     },
     "execution_count": 94,
     "metadata": {},
     "output_type": "execute_result"
    }
   ],
   "source": [
    "from sklearn.ensemble import GradientBoostingClassifier\n",
    "gb = GradientBoostingClassifier(random_state = 2)\n",
    "gb.fit(X_train, Y_train)"
   ]
  },
  {
   "cell_type": "markdown",
   "metadata": {},
   "source": [
    "Accuracy of the Gradient Boosting Classifier model on training data set."
   ]
  },
  {
   "cell_type": "code",
   "execution_count": 95,
   "metadata": {},
   "outputs": [
    {
     "data": {
      "text/plain": [
       "0.9946236559139785"
      ]
     },
     "execution_count": 95,
     "metadata": {},
     "output_type": "execute_result"
    }
   ],
   "source": [
    "from sklearn.metrics import accuracy_score\n",
    "accuracy_score(gb.predict(X_train), Y_train)"
   ]
  },
  {
   "cell_type": "markdown",
   "metadata": {},
   "source": [
    "Accuracy of the Gradient Boosting Classifier model on testing data set."
   ]
  },
  {
   "cell_type": "code",
   "execution_count": 96,
   "metadata": {},
   "outputs": [
    {
     "data": {
      "text/plain": [
       "0.957680250783699"
      ]
     },
     "execution_count": 96,
     "metadata": {},
     "output_type": "execute_result"
    }
   ],
   "source": [
    "accuracy_score(gb.predict(X_test), Y_test)"
   ]
  },
  {
   "cell_type": "markdown",
   "metadata": {},
   "source": [
    "GridSearchCV for hyperparameter tuning."
   ]
  },
  {
   "cell_type": "code",
   "execution_count": 97,
   "metadata": {},
   "outputs": [
    {
     "data": {
      "text/plain": [
       "GridSearchCV(cv=5, estimator=GradientBoostingClassifier(random_state=2),\n",
       "             param_grid={'criterion': ('friedman_mse', 'squared_error'),\n",
       "                         'max_features': ('auto', 'sqrt', 'log2'),\n",
       "                         'min_samples_leaf': range(2, 8)},\n",
       "             return_train_score=True)"
      ]
     },
     "execution_count": 97,
     "metadata": {},
     "output_type": "execute_result"
    }
   ],
   "source": [
    "parameters = {\n",
    "    'criterion' : ('friedman_mse', 'squared_error'),\n",
    "    'min_samples_leaf' : range(2, 8),\n",
    "    'max_features' : ('auto', 'sqrt', 'log2')\n",
    "}\n",
    "gs_gb = GridSearchCV(\n",
    "    estimator = gb,\n",
    "    param_grid = parameters,\n",
    "    cv = 5,\n",
    "    return_train_score = True,\n",
    ")\n",
    "gs_gb.fit(X_train, Y_train)"
   ]
  },
  {
   "cell_type": "markdown",
   "metadata": {},
   "source": [
    "Best score obtained for the hyperparameter tuning cross-validation."
   ]
  },
  {
   "cell_type": "code",
   "execution_count": 98,
   "metadata": {},
   "outputs": [
    {
     "data": {
      "text/plain": [
       "0.9489300160441101"
      ]
     },
     "execution_count": 98,
     "metadata": {},
     "output_type": "execute_result"
    }
   ],
   "source": [
    "gs_gb.best_score_"
   ]
  },
  {
   "cell_type": "markdown",
   "metadata": {},
   "source": [
    "Best parameter values after the hyperparameter tuning."
   ]
  },
  {
   "cell_type": "code",
   "execution_count": 99,
   "metadata": {},
   "outputs": [
    {
     "data": {
      "text/plain": [
       "{'criterion': 'friedman_mse', 'max_features': 'sqrt', 'min_samples_leaf': 4}"
      ]
     },
     "execution_count": 99,
     "metadata": {},
     "output_type": "execute_result"
    }
   ],
   "source": [
    "gs_gb.best_params_"
   ]
  },
  {
   "cell_type": "code",
   "execution_count": 100,
   "metadata": {},
   "outputs": [
    {
     "data": {
      "text/html": [
       "<div>\n",
       "<style scoped>\n",
       "    .dataframe tbody tr th:only-of-type {\n",
       "        vertical-align: middle;\n",
       "    }\n",
       "\n",
       "    .dataframe tbody tr th {\n",
       "        vertical-align: top;\n",
       "    }\n",
       "\n",
       "    .dataframe thead th {\n",
       "        text-align: right;\n",
       "    }\n",
       "</style>\n",
       "<table border=\"1\" class=\"dataframe\">\n",
       "  <thead>\n",
       "    <tr style=\"text-align: right;\">\n",
       "      <th></th>\n",
       "      <th>mean_test_score</th>\n",
       "      <th>mean_train_score</th>\n",
       "      <th>params</th>\n",
       "    </tr>\n",
       "  </thead>\n",
       "  <tbody>\n",
       "    <tr>\n",
       "      <th>0</th>\n",
       "      <td>0.940870</td>\n",
       "      <td>0.996808</td>\n",
       "      <td>{'criterion': 'friedman_mse', 'max_features': ...</td>\n",
       "    </tr>\n",
       "    <tr>\n",
       "      <th>1</th>\n",
       "      <td>0.938171</td>\n",
       "      <td>0.996975</td>\n",
       "      <td>{'criterion': 'friedman_mse', 'max_features': ...</td>\n",
       "    </tr>\n",
       "    <tr>\n",
       "      <th>2</th>\n",
       "      <td>0.942212</td>\n",
       "      <td>0.996975</td>\n",
       "      <td>{'criterion': 'friedman_mse', 'max_features': ...</td>\n",
       "    </tr>\n",
       "    <tr>\n",
       "      <th>3</th>\n",
       "      <td>0.941543</td>\n",
       "      <td>0.996807</td>\n",
       "      <td>{'criterion': 'friedman_mse', 'max_features': ...</td>\n",
       "    </tr>\n",
       "    <tr>\n",
       "      <th>4</th>\n",
       "      <td>0.938852</td>\n",
       "      <td>0.996640</td>\n",
       "      <td>{'criterion': 'friedman_mse', 'max_features': ...</td>\n",
       "    </tr>\n",
       "  </tbody>\n",
       "</table>\n",
       "</div>"
      ],
      "text/plain": [
       "   mean_test_score  mean_train_score  \\\n",
       "0         0.940870          0.996808   \n",
       "1         0.938171          0.996975   \n",
       "2         0.942212          0.996975   \n",
       "3         0.941543          0.996807   \n",
       "4         0.938852          0.996640   \n",
       "\n",
       "                                              params  \n",
       "0  {'criterion': 'friedman_mse', 'max_features': ...  \n",
       "1  {'criterion': 'friedman_mse', 'max_features': ...  \n",
       "2  {'criterion': 'friedman_mse', 'max_features': ...  \n",
       "3  {'criterion': 'friedman_mse', 'max_features': ...  \n",
       "4  {'criterion': 'friedman_mse', 'max_features': ...  "
      ]
     },
     "execution_count": 100,
     "metadata": {},
     "output_type": "execute_result"
    }
   ],
   "source": [
    "gs_results = pd.DataFrame(gs_gb.cv_results_)\n",
    "gs_results = gs_results[['mean_test_score', 'mean_train_score', 'params']]\n",
    "gs_results.head()"
   ]
  },
  {
   "cell_type": "markdown",
   "metadata": {},
   "source": [
    "Gradient Boosting Classifier accuracy with optimized parameters."
   ]
  },
  {
   "cell_type": "code",
   "execution_count": 101,
   "metadata": {},
   "outputs": [],
   "source": [
    "gb_optimized = GradientBoostingClassifier(\n",
    "    random_state = 2,\n",
    "    max_features = gs_gb.best_params_['max_features'],\n",
    "    min_samples_leaf = gs_gb.best_params_['min_samples_leaf'] ,\n",
    "    criterion = gs_gb.best_params_['criterion']\n",
    ")\n",
    "gb_optimized.fit(X_train, Y_train)\n",
    "yhat_gb = gb_optimized.predict(X_test)"
   ]
  },
  {
   "cell_type": "markdown",
   "metadata": {},
   "source": [
    "Accuracy of the optimized Gradient Boosting Classifier model on training data set."
   ]
  },
  {
   "cell_type": "code",
   "execution_count": 102,
   "metadata": {},
   "outputs": [
    {
     "data": {
      "text/plain": [
       "0.991263440860215"
      ]
     },
     "execution_count": 102,
     "metadata": {},
     "output_type": "execute_result"
    }
   ],
   "source": [
    "accuracy_train_gb = accuracy_score(gb_optimized.predict(X_train), Y_train)\n",
    "accuracy_train_gb"
   ]
  },
  {
   "cell_type": "markdown",
   "metadata": {},
   "source": [
    "Accuracy of the optimized Gradient Boosting Classifier model on testing data set."
   ]
  },
  {
   "cell_type": "code",
   "execution_count": 103,
   "metadata": {},
   "outputs": [
    {
     "data": {
      "text/plain": [
       "0.9529780564263323"
      ]
     },
     "execution_count": 103,
     "metadata": {},
     "output_type": "execute_result"
    }
   ],
   "source": [
    "accuracy_test_gb = accuracy_score(gb_optimized.predict(X_test), Y_test)\n",
    "accuracy_test_gb"
   ]
  },
  {
   "cell_type": "code",
   "execution_count": 104,
   "metadata": {},
   "outputs": [
    {
     "name": "stdout",
     "output_type": "stream",
     "text": [
      "The overall accuracy for the optimizedGradient Boosting Classifier model on the testing data set is 95.3 %.\n"
     ]
    }
   ],
   "source": [
    "print(\"The overall accuracy for the optimizedGradient Boosting Classifier model on the testing data set is\", str(100*round(accuracy_test_gb, 4)),\"%.\")"
   ]
  },
  {
   "cell_type": "markdown",
   "metadata": {},
   "source": [
    "Confusion Matrix for optimized Gradient Boosting Classifier model."
   ]
  },
  {
   "cell_type": "code",
   "execution_count": 105,
   "metadata": {},
   "outputs": [
    {
     "data": {
      "image/png": "[encoded data removed]",
      "text/plain": [
       "<Figure size 432x288 with 2 Axes>"
      ]
     },
     "metadata": {},
     "output_type": "display_data"
    }
   ],
   "source": [
    "sns.set(font_scale= 1.5)\n",
    "plt.figure(figsize= (6,4))\n",
    "g =sns.heatmap(confusion_matrix(y_true= Y_test, y_pred= yhat_gb), annot= True, cmap= 'Greens', fmt = 'g')\n",
    "g.set_xticklabels(['1', '2', '3'])\n",
    "g.set_yticklabels(['1', '2', '3']);\n",
    "plt.xlabel('Predicted Label')\n",
    "plt.ylabel('True Label')\n",
    "plt.title('Gradient Boosting Classifier');"
   ]
  },
  {
   "cell_type": "markdown",
   "metadata": {},
   "source": [
    "Summary of various model accuracies."
   ]
  },
  {
   "cell_type": "code",
   "execution_count": 106,
   "metadata": {},
   "outputs": [
    {
     "data": {
      "text/html": [
       "<div>\n",
       "<style scoped>\n",
       "    .dataframe tbody tr th:only-of-type {\n",
       "        vertical-align: middle;\n",
       "    }\n",
       "\n",
       "    .dataframe tbody tr th {\n",
       "        vertical-align: top;\n",
       "    }\n",
       "\n",
       "    .dataframe thead th {\n",
       "        text-align: right;\n",
       "    }\n",
       "</style>\n",
       "<table border=\"1\" class=\"dataframe\">\n",
       "  <thead>\n",
       "    <tr style=\"text-align: right;\">\n",
       "      <th></th>\n",
       "      <th>Model</th>\n",
       "      <th>Training Accuracy</th>\n",
       "      <th>Testing Accuracy</th>\n",
       "    </tr>\n",
       "  </thead>\n",
       "  <tbody>\n",
       "    <tr>\n",
       "      <th>0</th>\n",
       "      <td>Gradient Boost</td>\n",
       "      <td>0.991263</td>\n",
       "      <td>0.952978</td>\n",
       "    </tr>\n",
       "    <tr>\n",
       "      <th>1</th>\n",
       "      <td>AdaBoost</td>\n",
       "      <td>0.999328</td>\n",
       "      <td>0.942006</td>\n",
       "    </tr>\n",
       "    <tr>\n",
       "      <th>2</th>\n",
       "      <td>Random Forest</td>\n",
       "      <td>0.999328</td>\n",
       "      <td>0.937304</td>\n",
       "    </tr>\n",
       "    <tr>\n",
       "      <th>3</th>\n",
       "      <td>Support Vector Machine</td>\n",
       "      <td>0.962366</td>\n",
       "      <td>0.934169</td>\n",
       "    </tr>\n",
       "    <tr>\n",
       "      <th>4</th>\n",
       "      <td>Decision Tree</td>\n",
       "      <td>0.978495</td>\n",
       "      <td>0.926332</td>\n",
       "    </tr>\n",
       "    <tr>\n",
       "      <th>5</th>\n",
       "      <td>K-Nearest Neighbors</td>\n",
       "      <td>0.999328</td>\n",
       "      <td>0.910658</td>\n",
       "    </tr>\n",
       "    <tr>\n",
       "      <th>6</th>\n",
       "      <td>Logistic Regression</td>\n",
       "      <td>0.901882</td>\n",
       "      <td>0.904389</td>\n",
       "    </tr>\n",
       "  </tbody>\n",
       "</table>\n",
       "</div>"
      ],
      "text/plain": [
       "                    Model  Training Accuracy  Testing Accuracy\n",
       "0          Gradient Boost           0.991263          0.952978\n",
       "1                AdaBoost           0.999328          0.942006\n",
       "2           Random Forest           0.999328          0.937304\n",
       "3  Support Vector Machine           0.962366          0.934169\n",
       "4           Decision Tree           0.978495          0.926332\n",
       "5     K-Nearest Neighbors           0.999328          0.910658\n",
       "6     Logistic Regression           0.901882          0.904389"
      ]
     },
     "execution_count": 106,
     "metadata": {},
     "output_type": "execute_result"
    }
   ],
   "source": [
    "accuracies = pd.DataFrame({\n",
    "    'Model' : ['Decision Tree', 'Random Forest', 'K-Nearest Neighbors', 'Logistic Regression', 'Support Vector Machine', 'AdaBoost', 'Gradient Boost'], \n",
    "    'Training Accuracy' : [\n",
    "        accuracy_train_dt,\n",
    "        accuracy_train_rf,\n",
    "        accuracy_train_knn,\n",
    "        accuracy_train_lr,\n",
    "        accuracy_train_svc,\n",
    "        accuracy_train_adb,\n",
    "        accuracy_train_gb\n",
    "    ],\n",
    "    'Testing Accuracy' : [\n",
    "        accuracy_test_dt,\n",
    "        accuracy_test_rf,\n",
    "        accuracy_test_knn,\n",
    "        accuracy_test_lr,\n",
    "        accuracy_test_svc,\n",
    "        accuracy_test_adb,\n",
    "        accuracy_test_gb\n",
    "    ]\n",
    "})\n",
    "\n",
    "accuracies.sort_values(by = ['Testing Accuracy'], ascending = False, inplace = True)\n",
    "accuracies.reset_index().drop(columns = ['index'])"
   ]
  },
  {
   "cell_type": "markdown",
   "metadata": {},
   "source": [
    "Compare Confusion Matrices for various models."
   ]
  },
  {
   "cell_type": "code",
   "execution_count": 107,
   "metadata": {},
   "outputs": [
    {
     "data": {
      "image/png": "[encoded data removed]",
      "text/plain": [
       "<Figure size 1800x360 with 8 Axes>"
      ]
     },
     "metadata": {},
     "output_type": "display_data"
    },
    {
     "data": {
      "image/png": "[encoded data removed]",
      "text/plain": [
       "<Figure size 1440x360 with 6 Axes>"
      ]
     },
     "metadata": {},
     "output_type": "display_data"
    }
   ],
   "source": [
    "f,(ax1,ax2, ax3, ax4) = plt.subplots(1, 4, sharey=True, figsize=(25,5))\n",
    "g1 = sns.heatmap(confusion_matrix(y_true= Y_test, y_pred= yhat_gb), annot= True, cmap= 'Greens', fmt = 'g', ax = ax1)\n",
    "g1.set_title('Gradient Boosting\\n' + \"Overall Test accuracy : \" + \"{:.3%}\".format(accuracy_test_gb))\n",
    "g1.set_xticklabels(['1', '2', '3'])\n",
    "g1.set_yticklabels(['1', '2', '3'])\n",
    "g1.set_xlabel('Predicted Label')\n",
    "g1.set_ylabel('True Label')\n",
    "\n",
    "g2 = sns.heatmap(confusion_matrix(y_true= Y_test, y_pred= yhat_adb), annot= True, cmap= 'Greens', fmt = 'g', ax = ax2)\n",
    "g2.set_title('Ada Boosting\\n'+ \"Overall Test accuracy : \" + \"{:.3%}\".format(accuracy_test_adb))\n",
    "g2.set_xticklabels(['1', '2', '3'])\n",
    "g2.set_yticklabels(['1', '2', '3'])\n",
    "g2.set_xlabel('Predicted Label')\n",
    "g2.set_ylabel('True Label')\n",
    "\n",
    "g3 = sns.heatmap(confusion_matrix(y_true= Y_test, y_pred= yhat_rf), annot= True, cmap= 'Greens', fmt = 'g', ax = ax3)\n",
    "g3.set_title('Random Forest\\n'+ \"Overall Test accuracy : \" + \"{:.3%}\".format(accuracy_test_rf))\n",
    "g3.set_xticklabels(['1', '2', '3'])\n",
    "g3.set_yticklabels(['1', '2', '3'])\n",
    "g3.set_xlabel('Predicted Label')\n",
    "g3.set_ylabel('True Label')\n",
    "\n",
    "g4 = sns.heatmap(confusion_matrix(y_true= Y_test, y_pred= yhat_svc), annot= True, cmap= 'Greens', fmt = 'g', ax = ax4)\n",
    "g4.set_title('Support Vector Machine\\n'+\"Overall Test accuracy : \" +  \"{:.3%}\".format(accuracy_test_svc))\n",
    "g4.set_xticklabels(['1', '2', '3'])\n",
    "g4.set_yticklabels(['1', '2', '3'])\n",
    "g4.set_xlabel('Predicted Label')\n",
    "g4.set_ylabel('True Label')\n",
    "\n",
    "f,(ax1,ax2, ax3) = plt.subplots(1, 3, sharey=False, figsize=(20,5))\n",
    "g1 = sns.heatmap(confusion_matrix(y_true= Y_test, y_pred= yhat_dt), annot= True, cmap= 'Greens', fmt = 'g', ax = ax1)\n",
    "g1.set_title('Decision Tree\\n'+ \"Overall Test accuracy : \" + \"{:.3%}\".format(accuracy_test_dt))\n",
    "g1.set_xticklabels(['1', '2', '3'])\n",
    "g1.set_yticklabels(['1', '2', '3'])\n",
    "g1.set_xlabel('Predicted Label')\n",
    "g1.set_ylabel('True Label')\n",
    "\n",
    "g2 = sns.heatmap(confusion_matrix(y_true= Y_test, y_pred= yhat_knn), annot= True, cmap= 'Greens', fmt = 'g', ax = ax2)\n",
    "g2.set_title('K-Nearest Neighbors\\n'+ \"Overall Test accuracy : \" + \"{:.3%}\".format(accuracy_test_knn))\n",
    "g2.set_xticklabels(['1', '2', '3'])\n",
    "g2.set_yticklabels(['1', '2', '3'])\n",
    "g2.set_xlabel('Predicted Label')\n",
    "g2.set_ylabel('True Label')\n",
    "\n",
    "g3 = sns.heatmap(confusion_matrix(y_true= Y_test, y_pred= yhat_lr), annot= True, cmap= 'Greens', fmt = 'g', ax = ax3)\n",
    "g3.set_title('Logistic Regression\\n'+\"Overall Test accuracy : \" +  \"{:.3%}\".format(accuracy_test_lr))\n",
    "g3.set_xticklabels(['1', '2', '3'])\n",
    "g3.set_yticklabels(['1', '2', '3'])\n",
    "g3.set_xlabel('Predicted Label')\n",
    "g3.set_ylabel('True Label');"
   ]
  },
  {
   "cell_type": "code",
   "execution_count": 108,
   "metadata": {},
   "outputs": [
    {
     "name": "stdout",
     "output_type": "stream",
     "text": [
      "Total runtime for the entire code in the notebook is 3.53 minutes.\n"
     ]
    }
   ],
   "source": [
    "print(\"Total runtime for the entire code in the notebook is \" + str(round((time.time()-t0)/60, 2)) + ' minutes.')"
   ]
  },
  {
   "cell_type": "markdown",
   "metadata": {},
   "source": [
    "Author\n",
    "\n",
    "Mangaljit Singh"
   ]
  }
 ],
 "metadata": {
  "interpreter": {
   "hash": "07ba029a63dcfa286f28eb3e41855caf70e98b697d744d736f4a475db6687448"
  },
  "kernelspec": {
   "display_name": "Python 3.9.7 ('base')",
   "language": "python",
   "name": "python3"
  },
  "language_info": {
   "codemirror_mode": {
    "name": "ipython",
    "version": 3
   },
   "file_extension": ".py",
   "mimetype": "text/x-python",
   "name": "python",
   "nbconvert_exporter": "python",
   "pygments_lexer": "ipython3",
   "version": "3.9.12"
  }
 },
 "nbformat": 4,
 "nbformat_minor": 4
}
